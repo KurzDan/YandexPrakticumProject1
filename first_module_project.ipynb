{
  "cells": [
    {
      "cell_type": "markdown",
      "metadata": {
        "id": "E0vqbgi9ay0H"
      },
      "source": [
        "# Яндекс.Музыка"
      ]
    },
    {
      "cell_type": "markdown",
      "metadata": {
        "id": "VUC88oWjTJw2"
      },
      "source": [
        "Сравнение Москвы и Петербурга окружено мифами. Например:\n",
        " * Москва — мегаполис, подчинённый жёсткому ритму рабочей недели;\n",
        " * Петербург — культурная столица, со своими вкусами.\n",
        "\n",
        "На данных Яндекс.Музыки мы сравним поведение пользователей двух столиц.\n",
        "\n",
        "**Цель исследования** — проверить три гипотезы:\n",
        "1. Активность пользователей зависит от дня недели. Причём в Москве и Петербурге это проявляется по-разному.\n",
        "2. В понедельник утром в Москве преобладают одни жанры, а в Петербурге — другие. Так же и вечером пятницы преобладают разные жанры — в зависимости от города. \n",
        "3. Москва и Петербург предпочитают разные жанры музыки. В Москве чаще слушают поп-музыку, в Петербурге — русский рэп.\n",
        "\n",
        "**Ход исследования**\n",
        "\n",
        "Данные о поведении пользователей мы получим из файла `yandex_music_project.csv`. О качестве данных ничего не известно. Поэтому перед проверкой гипотез понадобится обзор данных. \n",
        "\n",
        "Мы проверим данные на ошибки и оценим их влияние на исследование. Затем, на этапе предобработки мы поищем возможность исправить самые критичные ошибки данных.\n",
        " \n",
        "Таким образом, исследование пройдёт в три этапа:\n",
        " 1. [Обзор данных.](#overlook)\n",
        " 2. [Предобработка данных.](#preprocessing)\n",
        " 3. [Проверка гипотез.](#hypothesis)\n",
        " \n",
        "\n"
      ]
    },
    {
      "cell_type": "markdown",
      "metadata": {
        "id": "Ml1hmfXC_Zcs"
      },
      "source": [
        "## Обзор данных <a id='overlook'></a>\n",
        "\n",
        "Составим первое представление о данных Яндекс.Музыки.\n",
        "\n",
        "\n"
      ]
    },
    {
      "cell_type": "markdown",
      "metadata": {
        "id": "57eAOGIz_Zcs"
      },
      "source": [
        "Основной инструмент аналитика — `pandas`. Импортируем эту библиотеку."
      ]
    },
    {
      "cell_type": "code",
      "execution_count": null,
      "metadata": {
        "id": "AXN7PHPN_Zcs"
      },
      "outputs": [],
      "source": [
        "import pandas as pd # импорт библиотеки pandas"
      ]
    },
    {
      "cell_type": "markdown",
      "metadata": {
        "id": "SG23P8tt_Zcs"
      },
      "source": [
        "Прочитаем файл `yandex_music_project.csv` из папки `/datasets` и сохраним его в переменной `df`:"
      ]
    },
    {
      "cell_type": "code",
      "execution_count": null,
      "metadata": {
        "id": "fFVu7vqh_Zct"
      },
      "outputs": [],
      "source": [
        "df = pd.read_csv('/datasets/yandex_music_project.csv') # чтение файла с данными и сохранение в df"
      ]
    },
    {
      "cell_type": "markdown",
      "metadata": {
        "id": "rDoOMd3uTqnZ"
      },
      "source": [
        "Выведем на экран первые десять строк таблицы:"
      ]
    },
    {
      "cell_type": "code",
      "execution_count": null,
      "metadata": {
        "id": "oWTVX3gW_Zct",
        "outputId": "d452b3c4-ad86-4421-d147-f5c348cb525a"
      },
      "outputs": [
        {
          "data": {
            "text/html": [
              "<div>\n",
              "<style scoped>\n",
              "    .dataframe tbody tr th:only-of-type {\n",
              "        vertical-align: middle;\n",
              "    }\n",
              "\n",
              "    .dataframe tbody tr th {\n",
              "        vertical-align: top;\n",
              "    }\n",
              "\n",
              "    .dataframe thead th {\n",
              "        text-align: right;\n",
              "    }\n",
              "</style>\n",
              "<table border=\"1\" class=\"dataframe\">\n",
              "  <thead>\n",
              "    <tr style=\"text-align: right;\">\n",
              "      <th></th>\n",
              "      <th>userID</th>\n",
              "      <th>Track</th>\n",
              "      <th>artist</th>\n",
              "      <th>genre</th>\n",
              "      <th>City</th>\n",
              "      <th>time</th>\n",
              "      <th>Day</th>\n",
              "    </tr>\n",
              "  </thead>\n",
              "  <tbody>\n",
              "    <tr>\n",
              "      <td>0</td>\n",
              "      <td>FFB692EC</td>\n",
              "      <td>Kamigata To Boots</td>\n",
              "      <td>The Mass Missile</td>\n",
              "      <td>rock</td>\n",
              "      <td>Saint-Petersburg</td>\n",
              "      <td>20:28:33</td>\n",
              "      <td>Wednesday</td>\n",
              "    </tr>\n",
              "    <tr>\n",
              "      <td>1</td>\n",
              "      <td>55204538</td>\n",
              "      <td>Delayed Because of Accident</td>\n",
              "      <td>Andreas Rönnberg</td>\n",
              "      <td>rock</td>\n",
              "      <td>Moscow</td>\n",
              "      <td>14:07:09</td>\n",
              "      <td>Friday</td>\n",
              "    </tr>\n",
              "    <tr>\n",
              "      <td>2</td>\n",
              "      <td>20EC38</td>\n",
              "      <td>Funiculì funiculà</td>\n",
              "      <td>Mario Lanza</td>\n",
              "      <td>pop</td>\n",
              "      <td>Saint-Petersburg</td>\n",
              "      <td>20:58:07</td>\n",
              "      <td>Wednesday</td>\n",
              "    </tr>\n",
              "    <tr>\n",
              "      <td>3</td>\n",
              "      <td>A3DD03C9</td>\n",
              "      <td>Dragons in the Sunset</td>\n",
              "      <td>Fire + Ice</td>\n",
              "      <td>folk</td>\n",
              "      <td>Saint-Petersburg</td>\n",
              "      <td>08:37:09</td>\n",
              "      <td>Monday</td>\n",
              "    </tr>\n",
              "    <tr>\n",
              "      <td>4</td>\n",
              "      <td>E2DC1FAE</td>\n",
              "      <td>Soul People</td>\n",
              "      <td>Space Echo</td>\n",
              "      <td>dance</td>\n",
              "      <td>Moscow</td>\n",
              "      <td>08:34:34</td>\n",
              "      <td>Monday</td>\n",
              "    </tr>\n",
              "    <tr>\n",
              "      <td>5</td>\n",
              "      <td>842029A1</td>\n",
              "      <td>Преданная</td>\n",
              "      <td>IMPERVTOR</td>\n",
              "      <td>rusrap</td>\n",
              "      <td>Saint-Petersburg</td>\n",
              "      <td>13:09:41</td>\n",
              "      <td>Friday</td>\n",
              "    </tr>\n",
              "    <tr>\n",
              "      <td>6</td>\n",
              "      <td>4CB90AA5</td>\n",
              "      <td>True</td>\n",
              "      <td>Roman Messer</td>\n",
              "      <td>dance</td>\n",
              "      <td>Moscow</td>\n",
              "      <td>13:00:07</td>\n",
              "      <td>Wednesday</td>\n",
              "    </tr>\n",
              "    <tr>\n",
              "      <td>7</td>\n",
              "      <td>F03E1C1F</td>\n",
              "      <td>Feeling This Way</td>\n",
              "      <td>Polina Griffith</td>\n",
              "      <td>dance</td>\n",
              "      <td>Moscow</td>\n",
              "      <td>20:47:49</td>\n",
              "      <td>Wednesday</td>\n",
              "    </tr>\n",
              "    <tr>\n",
              "      <td>8</td>\n",
              "      <td>8FA1D3BE</td>\n",
              "      <td>И вновь продолжается бой</td>\n",
              "      <td>NaN</td>\n",
              "      <td>ruspop</td>\n",
              "      <td>Moscow</td>\n",
              "      <td>09:17:40</td>\n",
              "      <td>Friday</td>\n",
              "    </tr>\n",
              "    <tr>\n",
              "      <td>9</td>\n",
              "      <td>E772D5C0</td>\n",
              "      <td>Pessimist</td>\n",
              "      <td>NaN</td>\n",
              "      <td>dance</td>\n",
              "      <td>Saint-Petersburg</td>\n",
              "      <td>21:20:49</td>\n",
              "      <td>Wednesday</td>\n",
              "    </tr>\n",
              "  </tbody>\n",
              "</table>\n",
              "</div>"
            ],
            "text/plain": [
              "     userID                        Track            artist   genre  \\\n",
              "0  FFB692EC            Kamigata To Boots  The Mass Missile    rock   \n",
              "1  55204538  Delayed Because of Accident  Andreas Rönnberg    rock   \n",
              "2    20EC38            Funiculì funiculà       Mario Lanza     pop   \n",
              "3  A3DD03C9        Dragons in the Sunset        Fire + Ice    folk   \n",
              "4  E2DC1FAE                  Soul People        Space Echo   dance   \n",
              "5  842029A1                    Преданная         IMPERVTOR  rusrap   \n",
              "6  4CB90AA5                         True      Roman Messer   dance   \n",
              "7  F03E1C1F             Feeling This Way   Polina Griffith   dance   \n",
              "8  8FA1D3BE     И вновь продолжается бой               NaN  ruspop   \n",
              "9  E772D5C0                    Pessimist               NaN   dance   \n",
              "\n",
              "             City        time        Day  \n",
              "0  Saint-Petersburg  20:28:33  Wednesday  \n",
              "1            Moscow  14:07:09     Friday  \n",
              "2  Saint-Petersburg  20:58:07  Wednesday  \n",
              "3  Saint-Petersburg  08:37:09     Monday  \n",
              "4            Moscow  08:34:34     Monday  \n",
              "5  Saint-Petersburg  13:09:41     Friday  \n",
              "6            Moscow  13:00:07  Wednesday  \n",
              "7            Moscow  20:47:49  Wednesday  \n",
              "8            Moscow  09:17:40     Friday  \n",
              "9  Saint-Petersburg  21:20:49  Wednesday  "
            ]
          },
          "execution_count": 195,
          "metadata": {},
          "output_type": "execute_result"
        }
      ],
      "source": [
        "df.head(10) # получение первых 10 строк таблицы df"
      ]
    },
    {
      "cell_type": "markdown",
      "metadata": {
        "id": "EO73Kwic_Zct"
      },
      "source": [
        "Получим общую информацию о таблице:"
      ]
    },
    {
      "cell_type": "code",
      "execution_count": null,
      "metadata": {
        "id": "DSf2kIb-_Zct",
        "outputId": "c8e20477-41cc-40d2-fc03-aad093278cb4"
      },
      "outputs": [
        {
          "name": "stdout",
          "output_type": "stream",
          "text": [
            "<class 'pandas.core.frame.DataFrame'>\n",
            "RangeIndex: 65079 entries, 0 to 65078\n",
            "Data columns (total 7 columns):\n",
            "  userID    65079 non-null object\n",
            "Track       63848 non-null object\n",
            "artist      57876 non-null object\n",
            "genre       63881 non-null object\n",
            "  City      65079 non-null object\n",
            "time        65079 non-null object\n",
            "Day         65079 non-null object\n",
            "dtypes: object(7)\n",
            "memory usage: 3.5+ MB\n"
          ]
        }
      ],
      "source": [
        "df.info() # получение общей информации о данных в таблице df"
      ]
    },
    {
      "cell_type": "markdown",
      "metadata": {
        "id": "TaQ2Iwbr_Zct"
      },
      "source": [
        "Итак, в таблице семь столбцов. Тип данных во всех столбцах — `object`.\n",
        "\n",
        "Согласно документации к данным:\n",
        "* `userID` — идентификатор пользователя;\n",
        "* `Track` — название трека;  \n",
        "* `artist` — имя исполнителя;\n",
        "* `genre` — название жанра;\n",
        "* `City` — город пользователя;\n",
        "* `time` — время начала прослушивания;\n",
        "* `Day` — день недели.\n",
        "\n",
        "В названиях колонок видны три нарушения стиля:\n",
        "1. Строчные буквы сочетаются с прописными.\n",
        "2. Встречаются пробелы.\n",
        "3. Названия колонок не отражают их содержание.\n",
        "\n",
        "\n",
        "\n",
        "Количество значений в столбцах различается. Значит, в данных есть пропущенные значения.\n"
      ]
    },
    {
      "cell_type": "markdown",
      "metadata": {
        "id": "MCB6-dXG_Zct"
      },
      "source": [
        "**Выводы**\n",
        "\n",
        "В каждой строке таблицы — данные о прослушанном треке. Часть колонок описывает саму композицию: название, исполнителя и жанр. Остальные данные рассказывают о пользователе: из какого он города, когда он слушал музыку. \n",
        "\n",
        "Предварительно можно утверждать, что, данных достаточно для проверки гипотез. Но встречаются пропуски в данных, а в названиях колонок — расхождения с хорошим стилем.\n",
        "\n",
        "Чтобы двигаться дальше, нужно устранить проблемы в данных."
      ]
    },
    {
      "cell_type": "markdown",
      "metadata": {
        "id": "SjYF6Ub9_Zct"
      },
      "source": [
        "## Предобработка данных <a id='preprocessing'></a>\n",
        "Исправим стиль в заголовках столбцов, исключим пропуски. Затем проверим данные на дубликаты."
      ]
    },
    {
      "cell_type": "markdown",
      "metadata": {
        "id": "dIaKXr29_Zct"
      },
      "source": [
        "### Стиль заголовков <a id='columns_names_style'></a>\n",
        "Выведем на экран названия столбцов:"
      ]
    },
    {
      "cell_type": "code",
      "execution_count": null,
      "metadata": {
        "id": "oKOTdF_Q_Zct",
        "outputId": "2f4c6ad6-a8eb-47ca-8ec7-7fc04b602c99"
      },
      "outputs": [
        {
          "data": {
            "text/plain": [
              "Index(['  userID', 'Track', 'artist', 'genre', '  City  ', 'time', 'Day'], dtype='object')"
            ]
          },
          "execution_count": 197,
          "metadata": {},
          "output_type": "execute_result"
        }
      ],
      "source": [
        "df.columns # перечень названий столбцов таблицы df"
      ]
    },
    {
      "cell_type": "markdown",
      "metadata": {
        "id": "zj5534cv_Zct"
      },
      "source": [
        "Приведем названия в соответствие с хорошим стилем:\n",
        "* несколько слов в названии запишем в «змеином_регистре»,\n",
        "* все символы сделаем строчными,\n",
        "* устраним пробелы.\n"
      ]
    },
    {
      "cell_type": "code",
      "execution_count": null,
      "metadata": {
        "id": "ISlFqs5y_Zct"
      },
      "outputs": [],
      "source": [
        "df = df.rename(columns={\n",
        "    '  userID': 'user_id',\n",
        "    'Track': 'track_name',\n",
        "    '  City  ': 'city',\n",
        "    'Day': 'day_of_week',\n",
        "    'artist': 'artist_name',\n",
        "    'genre': 'genre_name',\n",
        "    'time': 'time_of_start'\n",
        "}) "
      ]
    },
    {
      "cell_type": "markdown",
      "metadata": {
        "id": "1dqbh00J_Zct"
      },
      "source": [
        "Проверим результат. Для этого ещё раз выведем на экран названия столбцов:"
      ]
    },
    {
      "cell_type": "code",
      "execution_count": null,
      "metadata": {
        "id": "d4NOAmTW_Zct",
        "outputId": "1784de6a-d9aa-4498-d4c8-a453676af394"
      },
      "outputs": [
        {
          "data": {
            "text/plain": [
              "Index(['user_id', 'track_name', 'artist_name', 'genre_name', 'city',\n",
              "       'time_of_start', 'day_of_week'],\n",
              "      dtype='object')"
            ]
          },
          "execution_count": 199,
          "metadata": {},
          "output_type": "execute_result"
        }
      ],
      "source": [
        "df.columns "
      ]
    },
    {
      "cell_type": "markdown",
      "metadata": {
        "id": "5ISfbcfY_Zct"
      },
      "source": [
        "### Пропуски значений\n",
        "Сначала посчитаем, сколько в таблице пропущенных значений. Для этого достаточно двух методов `pandas`:"
      ]
    },
    {
      "cell_type": "code",
      "execution_count": null,
      "metadata": {
        "id": "RskX29qr_Zct",
        "outputId": "4e912ce3-15f6-46ce-e901-4d0a2de1bde5"
      },
      "outputs": [
        {
          "data": {
            "text/plain": [
              "user_id             0\n",
              "track_name       1231\n",
              "artist_name      7203\n",
              "genre_name       1198\n",
              "city                0\n",
              "time_of_start       0\n",
              "day_of_week         0\n",
              "dtype: int64"
            ]
          },
          "execution_count": 200,
          "metadata": {},
          "output_type": "execute_result"
        }
      ],
      "source": [
        "df.isna().sum() # подсчёт пропусков"
      ]
    },
    {
      "cell_type": "markdown",
      "metadata": {
        "id": "qubhgnlO_Zct"
      },
      "source": [
        "Не все пропущенные значения влияют на исследование. Так в `track_name` и `artist_name` пропуски не важны для нашей работы. Достаточно заменить их явными обозначениями.\n",
        "\n",
        "Но пропуски в `genre_name` могут помешать сравнению музыкальных вкусов в Москве и Санкт-Петербурге. На практике было бы правильно установить причину пропусков и восстановить данные. Такой возможности нет в учебном проекте. Придётся:\n",
        "* заполнить и эти пропуски явными обозначениями,\n",
        "* оценить, насколько они повредят расчётам. "
      ]
    },
    {
      "cell_type": "markdown",
      "metadata": {
        "id": "fSv2laPA_Zct"
      },
      "source": [
        "Заменим пропущенные значения в столбцах `track_name`, `artist_name` и `genre_name` на строку `unknown`. Для этого создадим список `columns_to_replace`, переберём его элементы циклом `for` и для каждого столбца выполним замену пропущенных значений:"
      ]
    },
    {
      "cell_type": "code",
      "execution_count": null,
      "metadata": {
        "id": "KplB5qWs_Zct"
      },
      "outputs": [],
      "source": [
        "columns_to_replace = ['track_name', 'artist_name', 'genre_name']\n",
        "for column in columns_to_replace:\n",
        "    df[column] = df[column].fillna('unknkown')"
      ]
    },
    {
      "cell_type": "markdown",
      "metadata": {
        "id": "Ilsm-MZo_Zct"
      },
      "source": [
        "Убедимся, что в таблице не осталось пропусков. Для этого ещё раз посчитаем пропущенные значения."
      ]
    },
    {
      "cell_type": "code",
      "execution_count": null,
      "metadata": {
        "id": "Tq4nYRX4_Zct",
        "outputId": "b5bc56f4-3722-4833-bfaf-7264a107e70c"
      },
      "outputs": [
        {
          "data": {
            "text/plain": [
              "user_id          0\n",
              "track_name       0\n",
              "artist_name      0\n",
              "genre_name       0\n",
              "city             0\n",
              "time_of_start    0\n",
              "day_of_week      0\n",
              "dtype: int64"
            ]
          },
          "execution_count": 202,
          "metadata": {},
          "output_type": "execute_result"
        }
      ],
      "source": [
        "df.isna().sum() # подсчёт пропусков"
      ]
    },
    {
      "cell_type": "markdown",
      "metadata": {
        "id": "BWKRtBJ3_Zct"
      },
      "source": [
        "### Дубликаты\n",
        "Посчитаем явные дубликаты в таблице:"
      ]
    },
    {
      "cell_type": "code",
      "execution_count": null,
      "metadata": {
        "id": "36eES_S0_Zct",
        "outputId": "9068ac7c-eded-4144-dae8-42b0280ce5e2"
      },
      "outputs": [
        {
          "data": {
            "text/plain": [
              "3826"
            ]
          },
          "execution_count": 203,
          "metadata": {},
          "output_type": "execute_result"
        }
      ],
      "source": [
        "df.duplicated().sum() # подсчёт явных дубликатов"
      ]
    },
    {
      "cell_type": "markdown",
      "metadata": {
        "id": "Ot25h6XR_Zct"
      },
      "source": [
        "Вызовите специальный метод `pandas`, чтобы удалить явные дубликаты:"
      ]
    },
    {
      "cell_type": "code",
      "execution_count": null,
      "metadata": {
        "id": "exFHq6tt_Zct"
      },
      "outputs": [],
      "source": [
        "df = df.drop_duplicates().reset_index(drop=True) # удаление явных дубликатов (с удалением старых индексов и формированием новых)"
      ]
    },
    {
      "cell_type": "markdown",
      "metadata": {
        "id": "Im2YwBEG_Zct"
      },
      "source": [
        "Ещё раз посчитаем явные дубликаты в таблице — убедимся, что полностью от них избавились:"
      ]
    },
    {
      "cell_type": "code",
      "execution_count": null,
      "metadata": {
        "id": "-8PuNWQ0_Zct",
        "outputId": "7ed98217-4194-47ca-f522-a9531e8acd04"
      },
      "outputs": [
        {
          "data": {
            "text/plain": [
              "0"
            ]
          },
          "execution_count": 205,
          "metadata": {},
          "output_type": "execute_result"
        }
      ],
      "source": [
        "df.duplicated().sum() "
      ]
    },
    {
      "cell_type": "markdown",
      "metadata": {
        "id": "QlFBsxAr_Zct"
      },
      "source": [
        "Теперь избавимсся от неявных дубликатов в колонке `genre`. Например, название одного и того же жанра может быть записано немного по-разному. Такие ошибки тоже повлияют на результат исследования."
      ]
    },
    {
      "cell_type": "markdown",
      "metadata": {
        "id": "eSjWwsOh_Zct"
      },
      "source": [
        "Выведем на экран список уникальных названий жанров, отсортированный в алфавитном порядке. Для этого:\n",
        "* извлечём нужный столбец датафрейма, \n",
        "* применим к нему метод сортировки,\n",
        "* для отсортированного столбца вызовем метод, который вернёт уникальные значения из столбца."
      ]
    },
    {
      "cell_type": "code",
      "execution_count": null,
      "metadata": {
        "id": "JIUcqzZN_Zct",
        "outputId": "30e30722-bf07-4776-d817-7a078d1fc4bf"
      },
      "outputs": [
        {
          "data": {
            "text/plain": [
              "['acid',\n",
              " 'acoustic',\n",
              " 'action',\n",
              " 'adult',\n",
              " 'africa',\n",
              " 'afrikaans',\n",
              " 'alternative',\n",
              " 'alternativepunk',\n",
              " 'ambient',\n",
              " 'americana',\n",
              " 'animated',\n",
              " 'anime',\n",
              " 'arabesk',\n",
              " 'arabic',\n",
              " 'arena',\n",
              " 'argentinetango',\n",
              " 'art',\n",
              " 'audiobook',\n",
              " 'author',\n",
              " 'avantgarde',\n",
              " 'axé',\n",
              " 'baile',\n",
              " 'balkan',\n",
              " 'beats',\n",
              " 'bigroom',\n",
              " 'black',\n",
              " 'bluegrass',\n",
              " 'blues',\n",
              " 'bollywood',\n",
              " 'bossa',\n",
              " 'brazilian',\n",
              " 'breakbeat',\n",
              " 'breaks',\n",
              " 'broadway',\n",
              " 'cantautori',\n",
              " 'cantopop',\n",
              " 'canzone',\n",
              " 'caribbean',\n",
              " 'caucasian',\n",
              " 'celtic',\n",
              " 'chamber',\n",
              " 'chanson',\n",
              " 'children',\n",
              " 'chill',\n",
              " 'chinese',\n",
              " 'choral',\n",
              " 'christian',\n",
              " 'christmas',\n",
              " 'classical',\n",
              " 'classicmetal',\n",
              " 'club',\n",
              " 'colombian',\n",
              " 'comedy',\n",
              " 'conjazz',\n",
              " 'contemporary',\n",
              " 'country',\n",
              " 'cuban',\n",
              " 'dance',\n",
              " 'dancehall',\n",
              " 'dancepop',\n",
              " 'dark',\n",
              " 'death',\n",
              " 'deep',\n",
              " 'deutschrock',\n",
              " 'deutschspr',\n",
              " 'dirty',\n",
              " 'disco',\n",
              " 'dnb',\n",
              " 'documentary',\n",
              " 'downbeat',\n",
              " 'downtempo',\n",
              " 'drum',\n",
              " 'dub',\n",
              " 'dubstep',\n",
              " 'eastern',\n",
              " 'easy',\n",
              " 'electronic',\n",
              " 'electropop',\n",
              " 'emo',\n",
              " 'entehno',\n",
              " 'epicmetal',\n",
              " 'estrada',\n",
              " 'ethnic',\n",
              " 'eurofolk',\n",
              " 'european',\n",
              " 'experimental',\n",
              " 'extrememetal',\n",
              " 'fado',\n",
              " 'fairytail',\n",
              " 'film',\n",
              " 'fitness',\n",
              " 'flamenco',\n",
              " 'folk',\n",
              " 'folklore',\n",
              " 'folkmetal',\n",
              " 'folkrock',\n",
              " 'folktronica',\n",
              " 'forró',\n",
              " 'frankreich',\n",
              " 'französisch',\n",
              " 'french',\n",
              " 'funk',\n",
              " 'future',\n",
              " 'gangsta',\n",
              " 'garage',\n",
              " 'german',\n",
              " 'ghazal',\n",
              " 'gitarre',\n",
              " 'glitch',\n",
              " 'gospel',\n",
              " 'gothic',\n",
              " 'grime',\n",
              " 'grunge',\n",
              " 'gypsy',\n",
              " 'handsup',\n",
              " \"hard'n'heavy\",\n",
              " 'hardcore',\n",
              " 'hardstyle',\n",
              " 'hardtechno',\n",
              " 'hip',\n",
              " 'hip-hop',\n",
              " 'hiphop',\n",
              " 'historisch',\n",
              " 'holiday',\n",
              " 'hop',\n",
              " 'horror',\n",
              " 'house',\n",
              " 'hymn',\n",
              " 'idm',\n",
              " 'independent',\n",
              " 'indian',\n",
              " 'indie',\n",
              " 'indipop',\n",
              " 'industrial',\n",
              " 'inspirational',\n",
              " 'instrumental',\n",
              " 'international',\n",
              " 'irish',\n",
              " 'jam',\n",
              " 'japanese',\n",
              " 'jazz',\n",
              " 'jewish',\n",
              " 'jpop',\n",
              " 'jungle',\n",
              " 'k-pop',\n",
              " 'karadeniz',\n",
              " 'karaoke',\n",
              " 'kayokyoku',\n",
              " 'korean',\n",
              " 'laiko',\n",
              " 'latin',\n",
              " 'latino',\n",
              " 'leftfield',\n",
              " 'local',\n",
              " 'lounge',\n",
              " 'loungeelectronic',\n",
              " 'lovers',\n",
              " 'malaysian',\n",
              " 'mandopop',\n",
              " 'marschmusik',\n",
              " 'meditative',\n",
              " 'mediterranean',\n",
              " 'melodic',\n",
              " 'metal',\n",
              " 'metalcore',\n",
              " 'mexican',\n",
              " 'middle',\n",
              " 'minimal',\n",
              " 'miscellaneous',\n",
              " 'modern',\n",
              " 'mood',\n",
              " 'mpb',\n",
              " 'muslim',\n",
              " 'native',\n",
              " 'neoklassik',\n",
              " 'neue',\n",
              " 'new',\n",
              " 'newage',\n",
              " 'newwave',\n",
              " 'nu',\n",
              " 'nujazz',\n",
              " 'numetal',\n",
              " 'oceania',\n",
              " 'old',\n",
              " 'opera',\n",
              " 'orchestral',\n",
              " 'other',\n",
              " 'piano',\n",
              " 'podcasts',\n",
              " 'pop',\n",
              " 'popdance',\n",
              " 'popelectronic',\n",
              " 'popeurodance',\n",
              " 'poprussian',\n",
              " 'post',\n",
              " 'posthardcore',\n",
              " 'postrock',\n",
              " 'power',\n",
              " 'progmetal',\n",
              " 'progressive',\n",
              " 'psychedelic',\n",
              " 'punjabi',\n",
              " 'punk',\n",
              " 'quebecois',\n",
              " 'ragga',\n",
              " 'ram',\n",
              " 'rancheras',\n",
              " 'rap',\n",
              " 'rave',\n",
              " 'reggae',\n",
              " 'reggaeton',\n",
              " 'regional',\n",
              " 'relax',\n",
              " 'religious',\n",
              " 'retro',\n",
              " 'rhythm',\n",
              " 'rnb',\n",
              " 'rnr',\n",
              " 'rock',\n",
              " 'rockabilly',\n",
              " 'rockalternative',\n",
              " 'rockindie',\n",
              " 'rockother',\n",
              " 'romance',\n",
              " 'roots',\n",
              " 'ruspop',\n",
              " 'rusrap',\n",
              " 'rusrock',\n",
              " 'russian',\n",
              " 'salsa',\n",
              " 'samba',\n",
              " 'scenic',\n",
              " 'schlager',\n",
              " 'self',\n",
              " 'sertanejo',\n",
              " 'shanson',\n",
              " 'shoegazing',\n",
              " 'showtunes',\n",
              " 'singer',\n",
              " 'ska',\n",
              " 'skarock',\n",
              " 'slow',\n",
              " 'smooth',\n",
              " 'soft',\n",
              " 'soul',\n",
              " 'soulful',\n",
              " 'sound',\n",
              " 'soundtrack',\n",
              " 'southern',\n",
              " 'specialty',\n",
              " 'speech',\n",
              " 'spiritual',\n",
              " 'sport',\n",
              " 'stonerrock',\n",
              " 'surf',\n",
              " 'swing',\n",
              " 'synthpop',\n",
              " 'synthrock',\n",
              " 'sängerportrait',\n",
              " 'tango',\n",
              " 'tanzorchester',\n",
              " 'taraftar',\n",
              " 'tatar',\n",
              " 'tech',\n",
              " 'techno',\n",
              " 'teen',\n",
              " 'thrash',\n",
              " 'top',\n",
              " 'traditional',\n",
              " 'tradjazz',\n",
              " 'trance',\n",
              " 'tribal',\n",
              " 'trip',\n",
              " 'triphop',\n",
              " 'tropical',\n",
              " 'türk',\n",
              " 'türkçe',\n",
              " 'ukrrock',\n",
              " 'unknkown',\n",
              " 'urban',\n",
              " 'uzbek',\n",
              " 'variété',\n",
              " 'vi',\n",
              " 'videogame',\n",
              " 'vocal',\n",
              " 'western',\n",
              " 'world',\n",
              " 'worldbeat',\n",
              " 'ïîï',\n",
              " 'электроника']"
            ]
          },
          "execution_count": 206,
          "metadata": {},
          "output_type": "execute_result"
        }
      ],
      "source": [
        "sorted(df['genre_name'].unique()) # Просмотр уникальных названий жанров"
      ]
    },
    {
      "cell_type": "markdown",
      "metadata": {
        "id": "qej-Qmuo_Zct"
      },
      "source": [
        "При просмотре списка уникальных значений мы обнаружим несколько неявных дубликатов жанра `hiphop`:\n",
        "\n",
        "* *hip*,\n",
        "* *hop*,\n",
        "* *hip-hop*.\n",
        "\n",
        "А так же слово `электроника`, что является неявным дубликатом жанра `electronic`.\n",
        "\n",
        "\n",
        "Чтобы очистить от них таблицу, напишем функцию `replace_wrong_genres()` с двумя параметрами: \n",
        "* `wrong_genres` — список дубликатов,\n",
        "* `correct_genre` — строка с правильным значением.\n",
        "\n",
        "Функция исправит колонку `genre_name` в таблице `df`: заменит каждое значение из списка `wrong_genres` на значение из `correct_genre`."
      ]
    },
    {
      "cell_type": "code",
      "execution_count": null,
      "metadata": {
        "id": "ErNDkmns_Zct"
      },
      "outputs": [],
      "source": [
        "wrong_hiphop_genres = ['hip', 'hop', 'hip-hop'] # создадим список с неявными дубликатами жанра 'hiphop'\n",
        "def replace_wrong_genres(wrong_genre, correct_genre):\n",
        "    df['genre_name'] = df['genre_name'].replace(wrong_genre, correct_genre) # Функция для замены неявных дубликатов"
      ]
    },
    {
      "cell_type": "markdown",
      "metadata": {
        "id": "aDoBJxbA_Zct"
      },
      "source": [
        "Вызовем `replace_wrong_genres()`, передим ей список неявных дубликатов жанра `hiphop` и слово `электроника`, чтобы она их устранила: вместо `hip`, `hop` и `hip-hop` в таблице будет одно значение `hiphop`, а вместо написанного кириллицей `электроника`, останется только `electronic`:"
      ]
    },
    {
      "cell_type": "code",
      "execution_count": null,
      "metadata": {
        "id": "YN5i2hpmSo09"
      },
      "outputs": [],
      "source": [
        "replace_wrong_genres('электроника', 'electronic')\n",
        "for genre in wrong_hiphop_genres:\n",
        "    replace_wrong_genres(genre, 'hiphop') "
      ]
    },
    {
      "cell_type": "markdown",
      "metadata": {
        "id": "zQKF16_RG15m"
      },
      "source": [
        "Проверим, что заменили неправильные названия:\n",
        "\n",
        "*   hip\n",
        "*   hop\n",
        "*   hip-hop\n",
        "*   электроника\n",
        "\n",
        "Выведем отсортированный список уникальных значений столбца `genre_name`:"
      ]
    },
    {
      "cell_type": "code",
      "execution_count": null,
      "metadata": {
        "id": "wvixALnFG15m",
        "outputId": "ffd0922b-0773-41d2-e198-1b7ce657f339"
      },
      "outputs": [
        {
          "data": {
            "text/plain": [
              "['acid',\n",
              " 'acoustic',\n",
              " 'action',\n",
              " 'adult',\n",
              " 'africa',\n",
              " 'afrikaans',\n",
              " 'alternative',\n",
              " 'alternativepunk',\n",
              " 'ambient',\n",
              " 'americana',\n",
              " 'animated',\n",
              " 'anime',\n",
              " 'arabesk',\n",
              " 'arabic',\n",
              " 'arena',\n",
              " 'argentinetango',\n",
              " 'art',\n",
              " 'audiobook',\n",
              " 'author',\n",
              " 'avantgarde',\n",
              " 'axé',\n",
              " 'baile',\n",
              " 'balkan',\n",
              " 'beats',\n",
              " 'bigroom',\n",
              " 'black',\n",
              " 'bluegrass',\n",
              " 'blues',\n",
              " 'bollywood',\n",
              " 'bossa',\n",
              " 'brazilian',\n",
              " 'breakbeat',\n",
              " 'breaks',\n",
              " 'broadway',\n",
              " 'cantautori',\n",
              " 'cantopop',\n",
              " 'canzone',\n",
              " 'caribbean',\n",
              " 'caucasian',\n",
              " 'celtic',\n",
              " 'chamber',\n",
              " 'chanson',\n",
              " 'children',\n",
              " 'chill',\n",
              " 'chinese',\n",
              " 'choral',\n",
              " 'christian',\n",
              " 'christmas',\n",
              " 'classical',\n",
              " 'classicmetal',\n",
              " 'club',\n",
              " 'colombian',\n",
              " 'comedy',\n",
              " 'conjazz',\n",
              " 'contemporary',\n",
              " 'country',\n",
              " 'cuban',\n",
              " 'dance',\n",
              " 'dancehall',\n",
              " 'dancepop',\n",
              " 'dark',\n",
              " 'death',\n",
              " 'deep',\n",
              " 'deutschrock',\n",
              " 'deutschspr',\n",
              " 'dirty',\n",
              " 'disco',\n",
              " 'dnb',\n",
              " 'documentary',\n",
              " 'downbeat',\n",
              " 'downtempo',\n",
              " 'drum',\n",
              " 'dub',\n",
              " 'dubstep',\n",
              " 'eastern',\n",
              " 'easy',\n",
              " 'electronic',\n",
              " 'electropop',\n",
              " 'emo',\n",
              " 'entehno',\n",
              " 'epicmetal',\n",
              " 'estrada',\n",
              " 'ethnic',\n",
              " 'eurofolk',\n",
              " 'european',\n",
              " 'experimental',\n",
              " 'extrememetal',\n",
              " 'fado',\n",
              " 'fairytail',\n",
              " 'film',\n",
              " 'fitness',\n",
              " 'flamenco',\n",
              " 'folk',\n",
              " 'folklore',\n",
              " 'folkmetal',\n",
              " 'folkrock',\n",
              " 'folktronica',\n",
              " 'forró',\n",
              " 'frankreich',\n",
              " 'französisch',\n",
              " 'french',\n",
              " 'funk',\n",
              " 'future',\n",
              " 'gangsta',\n",
              " 'garage',\n",
              " 'german',\n",
              " 'ghazal',\n",
              " 'gitarre',\n",
              " 'glitch',\n",
              " 'gospel',\n",
              " 'gothic',\n",
              " 'grime',\n",
              " 'grunge',\n",
              " 'gypsy',\n",
              " 'handsup',\n",
              " \"hard'n'heavy\",\n",
              " 'hardcore',\n",
              " 'hardstyle',\n",
              " 'hardtechno',\n",
              " 'hiphop',\n",
              " 'historisch',\n",
              " 'holiday',\n",
              " 'horror',\n",
              " 'house',\n",
              " 'hymn',\n",
              " 'idm',\n",
              " 'independent',\n",
              " 'indian',\n",
              " 'indie',\n",
              " 'indipop',\n",
              " 'industrial',\n",
              " 'inspirational',\n",
              " 'instrumental',\n",
              " 'international',\n",
              " 'irish',\n",
              " 'jam',\n",
              " 'japanese',\n",
              " 'jazz',\n",
              " 'jewish',\n",
              " 'jpop',\n",
              " 'jungle',\n",
              " 'k-pop',\n",
              " 'karadeniz',\n",
              " 'karaoke',\n",
              " 'kayokyoku',\n",
              " 'korean',\n",
              " 'laiko',\n",
              " 'latin',\n",
              " 'latino',\n",
              " 'leftfield',\n",
              " 'local',\n",
              " 'lounge',\n",
              " 'loungeelectronic',\n",
              " 'lovers',\n",
              " 'malaysian',\n",
              " 'mandopop',\n",
              " 'marschmusik',\n",
              " 'meditative',\n",
              " 'mediterranean',\n",
              " 'melodic',\n",
              " 'metal',\n",
              " 'metalcore',\n",
              " 'mexican',\n",
              " 'middle',\n",
              " 'minimal',\n",
              " 'miscellaneous',\n",
              " 'modern',\n",
              " 'mood',\n",
              " 'mpb',\n",
              " 'muslim',\n",
              " 'native',\n",
              " 'neoklassik',\n",
              " 'neue',\n",
              " 'new',\n",
              " 'newage',\n",
              " 'newwave',\n",
              " 'nu',\n",
              " 'nujazz',\n",
              " 'numetal',\n",
              " 'oceania',\n",
              " 'old',\n",
              " 'opera',\n",
              " 'orchestral',\n",
              " 'other',\n",
              " 'piano',\n",
              " 'podcasts',\n",
              " 'pop',\n",
              " 'popdance',\n",
              " 'popelectronic',\n",
              " 'popeurodance',\n",
              " 'poprussian',\n",
              " 'post',\n",
              " 'posthardcore',\n",
              " 'postrock',\n",
              " 'power',\n",
              " 'progmetal',\n",
              " 'progressive',\n",
              " 'psychedelic',\n",
              " 'punjabi',\n",
              " 'punk',\n",
              " 'quebecois',\n",
              " 'ragga',\n",
              " 'ram',\n",
              " 'rancheras',\n",
              " 'rap',\n",
              " 'rave',\n",
              " 'reggae',\n",
              " 'reggaeton',\n",
              " 'regional',\n",
              " 'relax',\n",
              " 'religious',\n",
              " 'retro',\n",
              " 'rhythm',\n",
              " 'rnb',\n",
              " 'rnr',\n",
              " 'rock',\n",
              " 'rockabilly',\n",
              " 'rockalternative',\n",
              " 'rockindie',\n",
              " 'rockother',\n",
              " 'romance',\n",
              " 'roots',\n",
              " 'ruspop',\n",
              " 'rusrap',\n",
              " 'rusrock',\n",
              " 'russian',\n",
              " 'salsa',\n",
              " 'samba',\n",
              " 'scenic',\n",
              " 'schlager',\n",
              " 'self',\n",
              " 'sertanejo',\n",
              " 'shanson',\n",
              " 'shoegazing',\n",
              " 'showtunes',\n",
              " 'singer',\n",
              " 'ska',\n",
              " 'skarock',\n",
              " 'slow',\n",
              " 'smooth',\n",
              " 'soft',\n",
              " 'soul',\n",
              " 'soulful',\n",
              " 'sound',\n",
              " 'soundtrack',\n",
              " 'southern',\n",
              " 'specialty',\n",
              " 'speech',\n",
              " 'spiritual',\n",
              " 'sport',\n",
              " 'stonerrock',\n",
              " 'surf',\n",
              " 'swing',\n",
              " 'synthpop',\n",
              " 'synthrock',\n",
              " 'sängerportrait',\n",
              " 'tango',\n",
              " 'tanzorchester',\n",
              " 'taraftar',\n",
              " 'tatar',\n",
              " 'tech',\n",
              " 'techno',\n",
              " 'teen',\n",
              " 'thrash',\n",
              " 'top',\n",
              " 'traditional',\n",
              " 'tradjazz',\n",
              " 'trance',\n",
              " 'tribal',\n",
              " 'trip',\n",
              " 'triphop',\n",
              " 'tropical',\n",
              " 'türk',\n",
              " 'türkçe',\n",
              " 'ukrrock',\n",
              " 'unknkown',\n",
              " 'urban',\n",
              " 'uzbek',\n",
              " 'variété',\n",
              " 'vi',\n",
              " 'videogame',\n",
              " 'vocal',\n",
              " 'western',\n",
              " 'world',\n",
              " 'worldbeat',\n",
              " 'ïîï']"
            ]
          },
          "execution_count": 209,
          "metadata": {},
          "output_type": "execute_result"
        }
      ],
      "source": [
        "sorted(df['genre_name'].unique()) # Проверка на неявные дубликаты"
      ]
    },
    {
      "cell_type": "markdown",
      "metadata": {
        "id": "E2Tf5TGWrxiH"
      },
      "source": [
        "Проверим на неявные дубликаты так же столбец с именами городов."
      ]
    },
    {
      "cell_type": "code",
      "execution_count": null,
      "metadata": {
        "id": "O7mOtIxRrxiH",
        "outputId": "bacad116-2208-433d-8ca8-adcebcbe86ac"
      },
      "outputs": [
        {
          "data": {
            "text/plain": [
              "array(['Saint-Petersburg', 'Moscow'], dtype=object)"
            ]
          },
          "execution_count": 210,
          "metadata": {},
          "output_type": "execute_result"
        }
      ],
      "source": [
        "df['city'].unique()"
      ]
    },
    {
      "cell_type": "markdown",
      "metadata": {
        "id": "5t-qxMtjrxiI"
      },
      "source": [
        "И какие дни недели указаны в таблице."
      ]
    },
    {
      "cell_type": "code",
      "execution_count": null,
      "metadata": {
        "id": "MoP7wTw7rxiI",
        "outputId": "ca0d81f4-9dff-44c9-88d1-48b91a458227"
      },
      "outputs": [
        {
          "data": {
            "text/plain": [
              "array(['Wednesday', 'Friday', 'Monday'], dtype=object)"
            ]
          },
          "execution_count": 211,
          "metadata": {},
          "output_type": "execute_result"
        }
      ],
      "source": [
        "df['day_of_week'].unique()"
      ]
    },
    {
      "cell_type": "markdown",
      "metadata": {
        "id": "jz6a9-7HQUDd"
      },
      "source": [
        "**Выводы**\n",
        "\n",
        "Предобработка обнаружила три проблемы в данных:\n",
        "\n",
        "- нарушения в стиле заголовков,\n",
        "- пропущенные значения,\n",
        "- дубликаты — явные и неявные.\n",
        "\n",
        "Мы исправили заголовки, чтобы упростить работу с таблицей. Без дубликатов исследование станет более точным.\n",
        "\n",
        "Пропущенные значения мы заменили на `'unknown'`. Ещё предстоит увидеть, не повредят ли исследованию пропуски в колонке `genre_name`.\n",
        "\n",
        "Так же мы знаем, что данные по дням недели разбиты на три дня: понедельник, среду и пятницу, а города, которые включены в таблицу - это Москва и Санкт-Петербург.\n",
        "\n",
        "Теперь можно перейти к проверке гипотез. "
      ]
    },
    {
      "cell_type": "markdown",
      "metadata": {
        "id": "WttZHXH0SqKk"
      },
      "source": [
        "## Проверка гипотез <a id='hypothesis'></a>"
      ]
    },
    {
      "cell_type": "markdown",
      "metadata": {
        "id": "Im936VVi_Zcu"
      },
      "source": [
        "### Сравнение поведения пользователей двух столиц"
      ]
    },
    {
      "cell_type": "markdown",
      "metadata": {
        "id": "nwt_MuaL_Zcu"
      },
      "source": [
        "Первая гипотеза утверждает, что пользователи по-разному слушают музыку в Москве и Санкт-Петербурге. Проверим это предположение по данным о трёх днях недели — понедельнике, среде и пятнице. Для этого:\n",
        "\n",
        "* Разделим пользователей Москвы и Санкт-Петербурга\n",
        "* Сравним, сколько треков послушала каждая группа пользователей в понедельник, среду и пятницу.\n"
      ]
    },
    {
      "cell_type": "markdown",
      "metadata": {
        "id": "8Dw_YMmT_Zcu"
      },
      "source": [
        "Сначала выполним каждый из расчётов по отдельности. \n",
        "\n",
        "Оценим активность пользователей в каждом городе. Сгруппируем данные по городу и посчитаем прослушивания в каждой группе.\n",
        "\n"
      ]
    },
    {
      "cell_type": "code",
      "execution_count": null,
      "metadata": {
        "id": "0_Qs96oh_Zcu",
        "outputId": "181a3630-b101-4370-9c57-7e7482399ecc"
      },
      "outputs": [
        {
          "data": {
            "text/plain": [
              "city\n",
              "Moscow              42741\n",
              "Saint-Petersburg    18512\n",
              "Name: user_id, dtype: int64"
            ]
          },
          "execution_count": 212,
          "metadata": {},
          "output_type": "execute_result"
        }
      ],
      "source": [
        "df.groupby('city')['user_id'].count()"
      ]
    },
    {
      "cell_type": "markdown",
      "metadata": {
        "id": "dzli3w8o_Zcu"
      },
      "source": [
        "В Москве прослушиваний больше, чем в Петербурге. Из этого не следует, что московские пользователи чаще слушают музыку. Просто самих пользователей в Москве больше.\n",
        "\n",
        "Теперь сгруппируем данные по дню недели и подсчитаем прослушивания в понедельник, среду и пятницу. На этапе [предобработки](#preprocessing) мы увидели, что данные в таблице есть только по этим дням.\n"
      ]
    },
    {
      "cell_type": "code",
      "execution_count": null,
      "metadata": {
        "id": "uZMKjiJz_Zcu",
        "outputId": "ebfe2158-d1a3-47e3-b5b9-3473e3baaa4e"
      },
      "outputs": [
        {
          "data": {
            "text/plain": [
              "day_of_week\n",
              "Friday       21840\n",
              "Monday       21354\n",
              "Wednesday    18059\n",
              "Name: user_id, dtype: int64"
            ]
          },
          "execution_count": 213,
          "metadata": {},
          "output_type": "execute_result"
        }
      ],
      "source": [
        "df.groupby('day_of_week')['user_id'].count() # Подсчёт прослушиваний в каждый из трёх дней"
      ]
    },
    {
      "cell_type": "markdown",
      "metadata": {
        "id": "cC2tNrlL_Zcu"
      },
      "source": [
        "В среднем пользователи из двух городов менее активны по средам. Но картина может измениться, если рассмотреть каждый город в отдельности."
      ]
    },
    {
      "cell_type": "markdown",
      "metadata": {
        "id": "POzs8bGa_Zcu"
      },
      "source": [
        "Напишем функцию, которая объединит расчёты группировки по городу и по дням недели.\n",
        "\n",
        "Создадим функцию `number_tracks()`, которая посчитает прослушивания для заданного дня и города. Ей понадобятся два параметра:\n",
        "* день недели,\n",
        "* название города.\n",
        "\n",
        "В функции сохраним в переменную строки исходной таблицы, у которых значение:\n",
        "  * в колонке `day_of_week` равно параметру `day`,\n",
        "  * в колонке `city` равно параметру `city`.\n",
        "\n",
        "Для этого применим последовательную фильтрацию с логической индексацией.\n",
        "\n",
        "Затем посчитаем значения в столбце `user_id` получившейся таблицы. Результат сохраним в новую переменную. Вернём эту переменную из функции."
      ]
    },
    {
      "cell_type": "code",
      "execution_count": null,
      "metadata": {
        "id": "Nz3GdQB1_Zcu"
      },
      "outputs": [],
      "source": [
        "def number_tracks(day, city):                            # Функция для подсчёта прослушиваний для конкретного города и дня.\n",
        "    track_list = df[df['day_of_week'] == day]            # С помощью последовательной фильтрации с логической индексацией она\n",
        "    track_list = track_list[track_list['city'] == city]  # сначала получит из исходной таблицы строки с нужным днём,\n",
        "    track_list_count = track_list['user_id'].count()     # затем из результата отфильтрует строки с нужным городом,\n",
        "    return track_list_count                              # методом count() посчитает количество значений в колонке user_id. \n",
        "                                                         # Это количество функция вернёт в качестве результата\n",
        "\n",
        " \n",
        "\n",
        "\n",
        "\n"
      ]
    },
    {
      "cell_type": "markdown",
      "metadata": {
        "id": "ytf7xFrFJQ2r"
      },
      "source": [
        "Вызовем `number_tracks()` шесть раз, меняя значение параметров — так, чтобы получить данные для каждого города в каждый из трёх дней."
      ]
    },
    {
      "cell_type": "code",
      "execution_count": null,
      "metadata": {
        "id": "rJcRATNQ_Zcu",
        "outputId": "8f86e945-029a-4675-d68e-39770bd0469f"
      },
      "outputs": [
        {
          "data": {
            "text/plain": [
              "15740"
            ]
          },
          "execution_count": 215,
          "metadata": {},
          "output_type": "execute_result"
        }
      ],
      "source": [
        "number_tracks('Monday', 'Moscow') # количество прослушиваний в Москве по понедельникам"
      ]
    },
    {
      "cell_type": "code",
      "execution_count": null,
      "metadata": {
        "id": "hq_ncZ5T_Zcu",
        "outputId": "b4f02d94-b13c-4d52-8211-9eb65ea7906e"
      },
      "outputs": [
        {
          "data": {
            "text/plain": [
              "5614"
            ]
          },
          "execution_count": 216,
          "metadata": {},
          "output_type": "execute_result"
        }
      ],
      "source": [
        "number_tracks('Monday', 'Saint-Petersburg') # количество прослушиваний в Санкт-Петербурге по понедельникам"
      ]
    },
    {
      "cell_type": "code",
      "execution_count": null,
      "metadata": {
        "id": "_NTy2VPU_Zcu",
        "outputId": "9f6eab88-dc03-4b7c-e1ba-9bdd62fd4b7b"
      },
      "outputs": [
        {
          "data": {
            "text/plain": [
              "11056"
            ]
          },
          "execution_count": 217,
          "metadata": {},
          "output_type": "execute_result"
        }
      ],
      "source": [
        "number_tracks('Wednesday', 'Moscow') # количество прослушиваний в Москве по средам"
      ]
    },
    {
      "cell_type": "code",
      "execution_count": null,
      "metadata": {
        "id": "j2y3TAwo_Zcu",
        "outputId": "22bd32eb-d789-444d-e590-21217783bed1"
      },
      "outputs": [
        {
          "data": {
            "text/plain": [
              "7003"
            ]
          },
          "execution_count": 218,
          "metadata": {},
          "output_type": "execute_result"
        }
      ],
      "source": [
        "number_tracks('Wednesday', 'Saint-Petersburg') # количество прослушиваний в Санкт-Петербурге по средам"
      ]
    },
    {
      "cell_type": "code",
      "execution_count": null,
      "metadata": {
        "id": "vYDw5u_K_Zcu",
        "outputId": "94b86666-586d-4a39-b423-8f05b4424251"
      },
      "outputs": [
        {
          "data": {
            "text/plain": [
              "15945"
            ]
          },
          "execution_count": 219,
          "metadata": {},
          "output_type": "execute_result"
        }
      ],
      "source": [
        "number_tracks('Friday', 'Moscow') # количество прослушиваний в Москве по пятницам"
      ]
    },
    {
      "cell_type": "code",
      "execution_count": null,
      "metadata": {
        "id": "8_yzFtW3_Zcu",
        "outputId": "0d847f5a-295a-40db-c7cb-f4578c845a1d"
      },
      "outputs": [
        {
          "data": {
            "text/plain": [
              "5895"
            ]
          },
          "execution_count": 220,
          "metadata": {},
          "output_type": "execute_result"
        }
      ],
      "source": [
        "number_tracks('Friday', 'Saint-Petersburg') # количество прослушиваний в Санкт-Петербурге по пятницам"
      ]
    },
    {
      "cell_type": "markdown",
      "metadata": {
        "id": "7QXffbO-_Zcu"
      },
      "source": [
        "Создадим c помощью конструктора `pd.DataFrame` таблицу, где\n",
        "* названия колонок — `['city', 'monday', 'wednesday', 'friday']`;\n",
        "* данные — результаты, которые мы получили с помощью `number_tracks`."
      ]
    },
    {
      "cell_type": "code",
      "execution_count": null,
      "metadata": {
        "id": "APAcLpOr_Zcu",
        "outputId": "cc34ac5e-d362-4491-aa98-05e281e663e2"
      },
      "outputs": [
        {
          "data": {
            "text/html": [
              "<div>\n",
              "<style scoped>\n",
              "    .dataframe tbody tr th:only-of-type {\n",
              "        vertical-align: middle;\n",
              "    }\n",
              "\n",
              "    .dataframe tbody tr th {\n",
              "        vertical-align: top;\n",
              "    }\n",
              "\n",
              "    .dataframe thead th {\n",
              "        text-align: right;\n",
              "    }\n",
              "</style>\n",
              "<table border=\"1\" class=\"dataframe\">\n",
              "  <thead>\n",
              "    <tr style=\"text-align: right;\">\n",
              "      <th></th>\n",
              "      <th>city</th>\n",
              "      <th>monday</th>\n",
              "      <th>wednesday</th>\n",
              "      <th>friday</th>\n",
              "    </tr>\n",
              "  </thead>\n",
              "  <tbody>\n",
              "    <tr>\n",
              "      <td>0</td>\n",
              "      <td>Moscow</td>\n",
              "      <td>15740</td>\n",
              "      <td>11056</td>\n",
              "      <td>15945</td>\n",
              "    </tr>\n",
              "    <tr>\n",
              "      <td>1</td>\n",
              "      <td>Saint-Petersburg</td>\n",
              "      <td>5614</td>\n",
              "      <td>7003</td>\n",
              "      <td>5895</td>\n",
              "    </tr>\n",
              "  </tbody>\n",
              "</table>\n",
              "</div>"
            ],
            "text/plain": [
              "               city  monday  wednesday  friday\n",
              "0            Moscow   15740      11056   15945\n",
              "1  Saint-Petersburg    5614       7003    5895"
            ]
          },
          "execution_count": 221,
          "metadata": {},
          "output_type": "execute_result"
        }
      ],
      "source": [
        "columns = ['city', 'monday', 'wednesday', 'friday']\n",
        "number_tracks_table = [\n",
        "    ['Moscow', 15740, 11056, 15945],\n",
        "    ['Saint-Petersburg', 5614, 7003, 5895]\n",
        "]\n",
        "\n",
        "number_tracks_table_df = pd.DataFrame(data=number_tracks_table, columns=columns)\n",
        "number_tracks_table_df"
      ]
    },
    {
      "cell_type": "markdown",
      "metadata": {
        "id": "-EgPIHYu_Zcu"
      },
      "source": [
        "**Выводы**\n",
        "\n",
        "Данные показывают разницу поведения пользователей:\n",
        "\n",
        "- В Москве пик прослушиваний приходится на понедельник и пятницу, а в среду заметен спад.\n",
        "- В Петербурге, наоборот, больше слушают музыку по средам. Активность в понедельник и пятницу здесь почти в равной мере уступает среде.\n",
        "\n",
        "Значит, данные говорят в пользу первой гипотезы."
      ]
    },
    {
      "cell_type": "markdown",
      "metadata": {
        "id": "atZAxtq4_Zcu"
      },
      "source": [
        "### Музыка в начале и в конце недели"
      ]
    },
    {
      "cell_type": "markdown",
      "metadata": {
        "id": "eXrQqXFH_Zcu"
      },
      "source": [
        "Согласно второй гипотезе, утром в понедельник в Москве преобладают одни жанры, а в Петербурге — другие. Так же и вечером пятницы преобладают разные жанры — в зависимости от города."
      ]
    },
    {
      "cell_type": "markdown",
      "metadata": {
        "id": "S8UcW6Hw_Zcu"
      },
      "source": [
        "Сохраним таблицы с данными в две переменные:\n",
        "* по Москве — в `moscow_general`;\n",
        "* по Санкт-Петербургу — в `spb_general`."
      ]
    },
    {
      "cell_type": "code",
      "execution_count": null,
      "metadata": {
        "id": "qeaFfM_P_Zcu"
      },
      "outputs": [],
      "source": [
        "moscow_general = df[df['city'] == 'Moscow']  # получение таблицы moscow_general из тех строк таблицы df, \n",
        "                                             # для которых значение в столбце 'city' равно 'Moscow'\n"
      ]
    },
    {
      "cell_type": "code",
      "execution_count": null,
      "metadata": {
        "id": "ORaVRKto_Zcu"
      },
      "outputs": [],
      "source": [
        "spb_general = df[df['city'] == 'Saint-Petersburg']  # получение таблицы spb_general из тех строк таблицы df,\n",
        "                                                    # для которых значение в столбце 'city' равно 'Saint-Petersburg'\n"
      ]
    },
    {
      "cell_type": "markdown",
      "metadata": {
        "id": "MEJV-CX2_Zcu"
      },
      "source": [
        "Создадим функцию `genre_weekday()` с четырьмя параметрами:\n",
        "* таблица (датафрейм) с данными,\n",
        "* день недели,\n",
        "* начальная временная метка в формате 'hh:mm', \n",
        "* последняя временная метка в формате 'hh:mm'.\n",
        "\n",
        "Функция должна вернуть информацию о топ-10 жанров тех треков, которые прослушивали в указанный день, в промежутке между двумя отметками времени."
      ]
    },
    {
      "cell_type": "code",
      "execution_count": null,
      "metadata": {
        "id": "laJT9BYl_Zcu"
      },
      "outputs": [],
      "source": [
        "def genre_weekday(table, day, time1, time2):  # Функция принимает в параметры таблицу, день недели, диапазон прослушивания\n",
        "    genre_df = table[table['day_of_week'] == day]  # Сохраним строки table, значения в столбце day_of_week которой равны аргументу day\n",
        "    genre_df = genre_df[genre_df['time_of_start'] > time1]  # В таблицу войдут только строки, значение времени которых больше time1\n",
        "    genre_df = genre_df[genre_df['time_of_start'] < time2]  # А так же те, значения которых меньше time2\n",
        "    genre_df_count = genre_df.groupby('genre_name')['user_id'].count()  # Посчитаем сгруппированные по жанру строки, взяв один столбец\n",
        "    genre_df_sorted = genre_df_count.sort_values(ascending=False)  # Отсортируем значения по убыванию\n",
        "    return genre_df_sorted.head(10)  #  Выводим первые 10 значений"
      ]
    },
    {
      "cell_type": "markdown",
      "metadata": {
        "id": "la2s2_PF_Zcu"
      },
      "source": [
        "Cравним результаты функции `genre_weekday()` для Москвы и Санкт-Петербурга в понедельник утром (с 7:00 до 11:00) и в пятницу вечером (с 17:00 до 23:00):"
      ]
    },
    {
      "cell_type": "code",
      "execution_count": null,
      "metadata": {
        "id": "yz7itPUQ_Zcu",
        "outputId": "b0eda68f-edab-4a0a-b689-1a3cf37ef9bf"
      },
      "outputs": [
        {
          "data": {
            "text/plain": [
              "genre_name\n",
              "pop            781\n",
              "dance          549\n",
              "electronic     480\n",
              "rock           474\n",
              "hiphop         286\n",
              "ruspop         186\n",
              "world          181\n",
              "rusrap         175\n",
              "alternative    164\n",
              "unknkown       161\n",
              "Name: user_id, dtype: int64"
            ]
          },
          "execution_count": 225,
          "metadata": {},
          "output_type": "execute_result"
        }
      ],
      "source": [
        "genre_weekday(moscow_general, 'Monday', '07:00', '11:00')  # вызов функции для утра понедельника в Москве"
      ]
    },
    {
      "cell_type": "code",
      "execution_count": null,
      "metadata": {
        "id": "kwUcHPdy_Zcu",
        "outputId": "3a737ea6-1af4-4117-af88-83b2e9380e0b"
      },
      "outputs": [
        {
          "data": {
            "text/plain": [
              "genre_name\n",
              "pop            218\n",
              "dance          182\n",
              "rock           162\n",
              "electronic     147\n",
              "hiphop          80\n",
              "ruspop          64\n",
              "alternative     58\n",
              "rusrap          55\n",
              "jazz            44\n",
              "classical       40\n",
              "Name: user_id, dtype: int64"
            ]
          },
          "execution_count": 226,
          "metadata": {},
          "output_type": "execute_result"
        }
      ],
      "source": [
        "genre_weekday(spb_general, 'Monday', '07:00', '11:00') # вызов функции для утра понедельника в Петербурге"
      ]
    },
    {
      "cell_type": "code",
      "execution_count": null,
      "metadata": {
        "id": "EzXVRE1o_Zcu",
        "outputId": "44398598-16ff-4542-af26-67b45b188adf"
      },
      "outputs": [
        {
          "data": {
            "text/plain": [
              "genre_name\n",
              "pop            713\n",
              "rock           517\n",
              "dance          495\n",
              "electronic     482\n",
              "hiphop         273\n",
              "world          208\n",
              "ruspop         170\n",
              "alternative    163\n",
              "classical      163\n",
              "rusrap         142\n",
              "Name: user_id, dtype: int64"
            ]
          },
          "execution_count": 227,
          "metadata": {},
          "output_type": "execute_result"
        }
      ],
      "source": [
        "genre_weekday(moscow_general, 'Friday', '17:00', '23:00') # вызов функции для вечера пятницы в Москве"
      ]
    },
    {
      "cell_type": "code",
      "execution_count": null,
      "metadata": {
        "id": "JZaEKu5v_Zcu",
        "outputId": "7893306f-e874-4801-e290-ab8900a7223f"
      },
      "outputs": [
        {
          "data": {
            "text/plain": [
              "genre_name\n",
              "pop            256\n",
              "rock           216\n",
              "electronic     216\n",
              "dance          210\n",
              "hiphop          97\n",
              "alternative     63\n",
              "jazz            61\n",
              "classical       60\n",
              "rusrap          59\n",
              "world           54\n",
              "Name: user_id, dtype: int64"
            ]
          },
          "execution_count": 228,
          "metadata": {},
          "output_type": "execute_result"
        }
      ],
      "source": [
        "genre_weekday(spb_general, 'Friday', '17:00', '23:00') # вызов функции для вечера пятницы в Петербурге"
      ]
    },
    {
      "cell_type": "markdown",
      "metadata": {
        "id": "wrCe4MNX_Zcu"
      },
      "source": [
        "**Выводы**\n",
        "\n",
        "Если сравнить топ-10 жанров в понедельник утром, можно сделать такие выводы:\n",
        "\n",
        "1. В Москве и Петербурге слушают похожую музыку. Единственное отличие — в московский рейтинг вошёл жанр “world”, а в петербургский — джаз и классика.\n",
        "\n",
        "2. В Москве пропущенных значений оказалось так много, что значение `'unknown'` заняло десятое место среди самых популярных жанров. Значит, пропущенные значения занимают существенную долю в данных и угрожают достоверности исследования.\n",
        "\n",
        "Вечер пятницы не меняет эту картину. Некоторые жанры поднимаются немного выше, другие спускаются, но в целом топ-10 остаётся тем же самым.\n",
        "\n",
        "Таким образом, вторая гипотеза подтвердилась лишь частично:\n",
        "* Пользователи слушают похожую музыку в начале недели и в конце.\n",
        "* Разница между Москвой и Петербургом не слишком выражена. В Москве чаще слушают русскую популярную музыку, в Петербурге — джаз.\n",
        "\n",
        "Однако пропуски в данных ставят под сомнение этот результат. В Москве их так много, что рейтинг топ-10 мог бы выглядеть иначе, если бы не утерянные  данные о жанрах."
      ]
    },
    {
      "cell_type": "markdown",
      "metadata": {
        "id": "JolODAqr_Zcu"
      },
      "source": [
        "### Жанровые предпочтения в Москве и Петербурге\n",
        "\n",
        "Гипотеза: Петербург — столица рэпа, музыку этого жанра там слушают чаще, чем в Москве.  А Москва — город контрастов, в котором, тем не менее, преобладает поп-музыка."
      ]
    },
    {
      "cell_type": "markdown",
      "metadata": {
        "id": "DlegSvaT_Zcu"
      },
      "source": [
        "Сгруппируем таблицу `moscow_general` по жанру и посчитаем прослушивания треков каждого жанра методом `count()`. Затем отсортируемм результат в порядке убывания и сохраним его в таблице `moscow_genres`."
      ]
    },
    {
      "cell_type": "code",
      "execution_count": null,
      "metadata": {
        "id": "r19lIPke_Zcu"
      },
      "outputs": [],
      "source": [
        "moscow_genres = moscow_general.groupby('genre_name')['user_id'].count().sort_values(ascending=False)"
      ]
    },
    {
      "cell_type": "markdown",
      "metadata": {
        "id": "6kMuomxTiIr8"
      },
      "source": [
        "Выведем на экран первые десять строк `moscow_genres`:"
      ]
    },
    {
      "cell_type": "code",
      "execution_count": null,
      "metadata": {
        "id": "WhCSooF8_Zcv",
        "outputId": "b80045cc-92ae-4ef1-e78a-f7ade9d19bd3"
      },
      "outputs": [
        {
          "data": {
            "text/plain": [
              "genre_name\n",
              "pop            5892\n",
              "dance          4435\n",
              "rock           3965\n",
              "electronic     3786\n",
              "hiphop         2096\n",
              "classical      1616\n",
              "world          1432\n",
              "alternative    1379\n",
              "ruspop         1372\n",
              "rusrap         1161\n",
              "Name: user_id, dtype: int64"
            ]
          },
          "execution_count": 230,
          "metadata": {},
          "output_type": "execute_result"
        }
      ],
      "source": [
        "moscow_genres.head(10) # просмотр первых 10 строк moscow_genres"
      ]
    },
    {
      "cell_type": "markdown",
      "metadata": {
        "id": "cnPG2vnN_Zcv"
      },
      "source": [
        "Теперь повторим то же и для Петербурга."
      ]
    },
    {
      "cell_type": "code",
      "execution_count": null,
      "metadata": {
        "id": "gluLIpE7_Zcv"
      },
      "outputs": [],
      "source": [
        "spb_genres = spb_general.groupby('genre_name')['user_id'].count().sort_values(ascending=False)"
      ]
    },
    {
      "cell_type": "markdown",
      "metadata": {
        "id": "5Doha_ODgyQ8"
      },
      "source": [
        "Выведем на экран первые десять строк `spb_genres`:"
      ]
    },
    {
      "cell_type": "code",
      "execution_count": null,
      "metadata": {
        "id": "uaGJHjVU_Zcv",
        "outputId": "c4fd7766-78dc-4548-e764-65f4b71ee004"
      },
      "outputs": [
        {
          "data": {
            "text/plain": [
              "genre_name\n",
              "pop            2431\n",
              "dance          1932\n",
              "rock           1879\n",
              "electronic     1737\n",
              "hiphop          960\n",
              "alternative     649\n",
              "classical       646\n",
              "rusrap          564\n",
              "ruspop          538\n",
              "world           515\n",
              "Name: user_id, dtype: int64"
            ]
          },
          "execution_count": 232,
          "metadata": {},
          "output_type": "execute_result"
        }
      ],
      "source": [
        "spb_genres.head(10) "
      ]
    },
    {
      "cell_type": "markdown",
      "metadata": {
        "id": "RY51YJYu_Zcv"
      },
      "source": [
        "**Выводы**"
      ]
    },
    {
      "cell_type": "markdown",
      "metadata": {
        "id": "nVhnJEm__Zcv"
      },
      "source": [
        "Гипотеза частично подтвердилась:\n",
        "* Поп-музыка — самый популярный жанр в Москве, как и предполагала гипотеза. Более того, в топ-10 жанров встречается близкий жанр — русская популярная музыка.\n",
        "* Вопреки ожиданиям, рэп одинаково популярен в Москве и Петербурге. \n"
      ]
    },
    {
      "cell_type": "markdown",
      "metadata": {
        "id": "ykKQ0N65_Zcv"
      },
      "source": [
        "## Итоги исследования <a id=result></a>"
      ]
    },
    {
      "cell_type": "markdown",
      "metadata": {
        "id": "tjUwbHb3_Zcv"
      },
      "source": [
        "Мы проверили три гипотезы и установили:\n",
        "\n",
        "1. День недели по-разному влияет на активность пользователей в Москве и Петербурге. \n",
        "\n",
        "Первая гипотеза полностью подтвердилась.\n",
        "\n",
        "2. Музыкальные предпочтения не сильно меняются в течение недели — будь то Москва или Петербург. Небольшие различия заметны в начале недели, по понедельникам:\n",
        "* в Москве слушают музыку жанра “world”,\n",
        "* в Петербурге — джаз и классику.\n",
        "\n",
        "Таким образом, вторая гипотеза подтвердилась лишь отчасти. Этот результат мог оказаться иным, если бы не пропуски в данных.\n",
        "\n",
        "3. Во вкусах пользователей Москвы и Петербурга больше общего чем различий. Вопреки ожиданиям, предпочтения жанров в Петербурге напоминают московские.\n",
        "\n",
        "Третья гипотеза не подтвердилась. Если различия в предпочтениях и существуют, на основной массе пользователей они незаметны.\n"
      ]
    },
    {
      "cell_type": "code",
      "execution_count": null,
      "metadata": {
        "id": "sItEdp4WrxiZ"
      },
      "outputs": [],
      "source": [
        ""
      ]
    }
  ],
  "metadata": {
    "ExecuteTimeLog": [
      {
        "duration": 566,
        "start_time": "2022-02-03T20:26:36.531Z"
      },
      {
        "duration": 225,
        "start_time": "2022-02-03T20:27:59.716Z"
      },
      {
        "duration": 54,
        "start_time": "2022-02-03T20:28:03.908Z"
      },
      {
        "duration": 176,
        "start_time": "2022-02-03T20:28:07.552Z"
      },
      {
        "duration": 172,
        "start_time": "2022-02-03T20:28:11.836Z"
      },
      {
        "duration": 2,
        "start_time": "2022-02-03T20:28:18.090Z"
      },
      {
        "duration": 176,
        "start_time": "2022-02-03T20:28:18.784Z"
      },
      {
        "duration": 181,
        "start_time": "2022-02-03T20:28:29.872Z"
      },
      {
        "duration": 70,
        "start_time": "2022-02-03T20:28:35.523Z"
      },
      {
        "duration": 60,
        "start_time": "2022-02-03T20:28:50.437Z"
      },
      {
        "duration": 210,
        "start_time": "2022-02-03T20:29:00.748Z"
      },
      {
        "duration": 130,
        "start_time": "2022-02-03T20:31:21.177Z"
      },
      {
        "duration": 16,
        "start_time": "2022-02-03T20:31:23.303Z"
      },
      {
        "duration": 25,
        "start_time": "2022-02-03T20:31:36.888Z"
      },
      {
        "duration": 3,
        "start_time": "2022-02-03T20:47:57.149Z"
      },
      {
        "duration": 3,
        "start_time": "2022-02-03T20:49:01.714Z"
      },
      {
        "duration": 139,
        "start_time": "2022-02-03T20:49:13.302Z"
      },
      {
        "duration": 12,
        "start_time": "2022-02-03T20:49:15.376Z"
      },
      {
        "duration": 24,
        "start_time": "2022-02-03T20:49:18.049Z"
      },
      {
        "duration": 169,
        "start_time": "2022-02-03T20:49:58.106Z"
      },
      {
        "duration": 3,
        "start_time": "2022-02-03T20:50:02.468Z"
      },
      {
        "duration": 22,
        "start_time": "2022-02-03T20:53:01.204Z"
      },
      {
        "duration": 4,
        "start_time": "2022-02-03T20:53:09.577Z"
      },
      {
        "duration": 22,
        "start_time": "2022-02-03T20:57:38.937Z"
      },
      {
        "duration": 4,
        "start_time": "2022-02-03T20:57:41.631Z"
      },
      {
        "duration": 18,
        "start_time": "2022-02-03T20:57:53.063Z"
      },
      {
        "duration": 3,
        "start_time": "2022-02-03T20:57:55.084Z"
      },
      {
        "duration": 3,
        "start_time": "2022-02-03T20:58:03.130Z"
      },
      {
        "duration": 145,
        "start_time": "2022-02-03T20:58:03.665Z"
      },
      {
        "duration": 12,
        "start_time": "2022-02-03T20:58:04.169Z"
      },
      {
        "duration": 24,
        "start_time": "2022-02-03T20:58:05.340Z"
      },
      {
        "duration": 4,
        "start_time": "2022-02-03T20:58:11.693Z"
      },
      {
        "duration": 21,
        "start_time": "2022-02-03T20:58:14.691Z"
      },
      {
        "duration": 4,
        "start_time": "2022-02-03T20:58:17.559Z"
      },
      {
        "duration": 20,
        "start_time": "2022-02-03T21:00:02.796Z"
      },
      {
        "duration": 4,
        "start_time": "2022-02-03T21:00:03.601Z"
      },
      {
        "duration": 68,
        "start_time": "2022-02-03T21:00:14.386Z"
      },
      {
        "duration": 57,
        "start_time": "2022-02-03T21:00:21.478Z"
      },
      {
        "duration": 28,
        "start_time": "2022-02-03T21:00:38.282Z"
      },
      {
        "duration": 23,
        "start_time": "2022-02-03T21:00:47.198Z"
      },
      {
        "duration": 23,
        "start_time": "2022-02-03T21:01:03.912Z"
      },
      {
        "duration": 4318,
        "start_time": "2022-02-03T21:03:36.247Z"
      },
      {
        "duration": 16,
        "start_time": "2022-02-03T21:04:01.541Z"
      },
      {
        "duration": 23,
        "start_time": "2022-02-03T21:04:20.709Z"
      },
      {
        "duration": 15,
        "start_time": "2022-02-03T21:04:25.752Z"
      },
      {
        "duration": 22,
        "start_time": "2022-02-03T21:04:26.747Z"
      },
      {
        "duration": 3,
        "start_time": "2022-02-03T21:05:04.954Z"
      },
      {
        "duration": 147,
        "start_time": "2022-02-03T21:05:05.308Z"
      },
      {
        "duration": 11,
        "start_time": "2022-02-03T21:05:05.618Z"
      },
      {
        "duration": 23,
        "start_time": "2022-02-03T21:05:08.206Z"
      },
      {
        "duration": 4,
        "start_time": "2022-02-03T21:05:09.997Z"
      },
      {
        "duration": 17,
        "start_time": "2022-02-03T21:05:11.852Z"
      },
      {
        "duration": 5,
        "start_time": "2022-02-03T21:05:13.072Z"
      },
      {
        "duration": 23,
        "start_time": "2022-02-03T21:05:14.580Z"
      },
      {
        "duration": 17,
        "start_time": "2022-02-03T21:05:16.871Z"
      },
      {
        "duration": 23,
        "start_time": "2022-02-03T21:05:18.391Z"
      },
      {
        "duration": 14,
        "start_time": "2022-02-03T21:06:26.551Z"
      },
      {
        "duration": 23,
        "start_time": "2022-02-03T21:06:28.530Z"
      },
      {
        "duration": 2726,
        "start_time": "2022-02-03T21:06:58.996Z"
      },
      {
        "duration": -118,
        "start_time": "2022-02-03T21:07:01.843Z"
      },
      {
        "duration": 2,
        "start_time": "2022-02-03T21:08:11.051Z"
      },
      {
        "duration": 134,
        "start_time": "2022-02-03T21:08:11.373Z"
      },
      {
        "duration": 10,
        "start_time": "2022-02-03T21:08:11.647Z"
      },
      {
        "duration": 23,
        "start_time": "2022-02-03T21:08:12.259Z"
      },
      {
        "duration": 4,
        "start_time": "2022-02-03T21:08:13.863Z"
      },
      {
        "duration": 17,
        "start_time": "2022-02-03T21:08:14.875Z"
      },
      {
        "duration": 5,
        "start_time": "2022-02-03T21:08:15.770Z"
      },
      {
        "duration": 23,
        "start_time": "2022-02-03T21:08:16.287Z"
      },
      {
        "duration": 3045,
        "start_time": "2022-02-03T21:08:17.013Z"
      },
      {
        "duration": 2594,
        "start_time": "2022-02-03T21:09:43.650Z"
      },
      {
        "duration": 3,
        "start_time": "2022-02-03T21:10:05.381Z"
      },
      {
        "duration": 157,
        "start_time": "2022-02-03T21:10:05.745Z"
      },
      {
        "duration": 11,
        "start_time": "2022-02-03T21:10:06.030Z"
      },
      {
        "duration": 25,
        "start_time": "2022-02-03T21:10:06.329Z"
      },
      {
        "duration": 4,
        "start_time": "2022-02-03T21:10:07.093Z"
      },
      {
        "duration": 23,
        "start_time": "2022-02-03T21:10:08.092Z"
      },
      {
        "duration": 4,
        "start_time": "2022-02-03T21:10:08.830Z"
      },
      {
        "duration": 24,
        "start_time": "2022-02-03T21:10:09.764Z"
      },
      {
        "duration": 2409,
        "start_time": "2022-02-03T21:10:11.980Z"
      },
      {
        "duration": 2279,
        "start_time": "2022-02-03T21:11:15.353Z"
      },
      {
        "duration": 2877,
        "start_time": "2022-02-03T21:11:43.858Z"
      },
      {
        "duration": 2339,
        "start_time": "2022-02-03T21:14:43.709Z"
      },
      {
        "duration": 4142,
        "start_time": "2022-02-03T21:15:46.827Z"
      },
      {
        "duration": 2441,
        "start_time": "2022-02-03T21:16:01.891Z"
      },
      {
        "duration": 2,
        "start_time": "2022-02-03T21:16:18.055Z"
      },
      {
        "duration": 147,
        "start_time": "2022-02-03T21:16:18.059Z"
      },
      {
        "duration": 10,
        "start_time": "2022-02-03T21:16:18.208Z"
      },
      {
        "duration": 44,
        "start_time": "2022-02-03T21:16:18.219Z"
      },
      {
        "duration": 3,
        "start_time": "2022-02-03T21:16:18.265Z"
      },
      {
        "duration": 23,
        "start_time": "2022-02-03T21:16:18.270Z"
      },
      {
        "duration": 4,
        "start_time": "2022-02-03T21:16:18.296Z"
      },
      {
        "duration": 24,
        "start_time": "2022-02-03T21:16:18.302Z"
      },
      {
        "duration": 36,
        "start_time": "2022-02-03T21:16:18.328Z"
      },
      {
        "duration": 11,
        "start_time": "2022-02-03T21:16:18.366Z"
      },
      {
        "duration": 23,
        "start_time": "2022-02-03T21:16:18.378Z"
      },
      {
        "duration": 2,
        "start_time": "2022-02-03T21:16:18.403Z"
      },
      {
        "duration": 6,
        "start_time": "2022-02-03T21:16:18.407Z"
      },
      {
        "duration": 5,
        "start_time": "2022-02-03T21:16:18.415Z"
      },
      {
        "duration": 5,
        "start_time": "2022-02-03T21:16:18.421Z"
      },
      {
        "duration": 5,
        "start_time": "2022-02-03T21:16:18.427Z"
      },
      {
        "duration": 4,
        "start_time": "2022-02-03T21:16:18.434Z"
      },
      {
        "duration": 2,
        "start_time": "2022-02-03T21:16:18.458Z"
      },
      {
        "duration": 3,
        "start_time": "2022-02-03T21:16:18.463Z"
      },
      {
        "duration": 4,
        "start_time": "2022-02-03T21:16:18.468Z"
      },
      {
        "duration": 6,
        "start_time": "2022-02-03T21:16:18.474Z"
      },
      {
        "duration": 5,
        "start_time": "2022-02-03T21:16:18.482Z"
      },
      {
        "duration": 5,
        "start_time": "2022-02-03T21:16:18.488Z"
      },
      {
        "duration": 9,
        "start_time": "2022-02-03T21:16:18.495Z"
      },
      {
        "duration": 10,
        "start_time": "2022-02-03T21:16:18.506Z"
      },
      {
        "duration": 7,
        "start_time": "2022-02-03T21:16:18.518Z"
      },
      {
        "duration": 6,
        "start_time": "2022-02-03T21:16:18.526Z"
      },
      {
        "duration": 5,
        "start_time": "2022-02-03T21:16:18.534Z"
      },
      {
        "duration": 4,
        "start_time": "2022-02-03T21:16:18.540Z"
      },
      {
        "duration": 6,
        "start_time": "2022-02-03T21:16:18.546Z"
      },
      {
        "duration": 8,
        "start_time": "2022-02-03T21:16:18.553Z"
      },
      {
        "duration": 9,
        "start_time": "2022-02-03T21:16:18.563Z"
      },
      {
        "duration": 5,
        "start_time": "2022-02-03T21:16:18.573Z"
      },
      {
        "duration": 9,
        "start_time": "2022-02-03T21:16:18.580Z"
      },
      {
        "duration": 8,
        "start_time": "2022-02-03T21:16:18.590Z"
      },
      {
        "duration": 5,
        "start_time": "2022-02-03T21:16:18.599Z"
      },
      {
        "duration": 5,
        "start_time": "2022-02-03T21:16:18.605Z"
      },
      {
        "duration": 4,
        "start_time": "2022-02-03T21:16:18.612Z"
      },
      {
        "duration": 5,
        "start_time": "2022-02-03T21:16:18.618Z"
      },
      {
        "duration": 23,
        "start_time": "2022-02-03T21:16:56.442Z"
      },
      {
        "duration": 60,
        "start_time": "2022-02-03T21:17:11.258Z"
      },
      {
        "duration": 54,
        "start_time": "2022-02-03T21:17:17.242Z"
      },
      {
        "duration": 58,
        "start_time": "2022-02-03T21:17:22.770Z"
      },
      {
        "duration": 74,
        "start_time": "2022-02-03T21:17:58.999Z"
      },
      {
        "duration": 66,
        "start_time": "2022-02-03T21:18:09.649Z"
      },
      {
        "duration": 52,
        "start_time": "2022-02-03T21:18:27.084Z"
      },
      {
        "duration": 50,
        "start_time": "2022-02-03T21:18:32.870Z"
      },
      {
        "duration": 8,
        "start_time": "2022-02-03T21:19:35.829Z"
      },
      {
        "duration": 15,
        "start_time": "2022-02-03T21:19:56.953Z"
      },
      {
        "duration": 3,
        "start_time": "2022-02-03T21:26:12.656Z"
      },
      {
        "duration": 3,
        "start_time": "2022-02-03T21:33:09.098Z"
      },
      {
        "duration": 188,
        "start_time": "2022-02-03T21:33:14.142Z"
      },
      {
        "duration": 13,
        "start_time": "2022-02-03T21:33:28.309Z"
      },
      {
        "duration": 5359,
        "start_time": "2022-02-03T21:33:56.791Z"
      },
      {
        "duration": 4303,
        "start_time": "2022-02-03T21:34:16.227Z"
      },
      {
        "duration": 4545,
        "start_time": "2022-02-03T21:34:32.045Z"
      },
      {
        "duration": 9,
        "start_time": "2022-02-03T21:34:44.007Z"
      },
      {
        "duration": 6,
        "start_time": "2022-02-03T21:40:13.241Z"
      },
      {
        "duration": 7,
        "start_time": "2022-02-03T21:40:19.497Z"
      },
      {
        "duration": 9,
        "start_time": "2022-02-03T21:40:25.563Z"
      },
      {
        "duration": 3,
        "start_time": "2022-02-03T21:41:46.987Z"
      },
      {
        "duration": 11,
        "start_time": "2022-02-03T21:41:47.439Z"
      },
      {
        "duration": 10,
        "start_time": "2022-02-03T21:41:50.357Z"
      },
      {
        "duration": 29,
        "start_time": "2022-02-03T21:43:51.459Z"
      },
      {
        "duration": 33,
        "start_time": "2022-02-03T21:44:17.669Z"
      },
      {
        "duration": 177,
        "start_time": "2022-02-03T21:44:38.749Z"
      },
      {
        "duration": 3,
        "start_time": "2022-02-03T21:44:53.074Z"
      },
      {
        "duration": 156,
        "start_time": "2022-02-03T21:44:53.078Z"
      },
      {
        "duration": 25,
        "start_time": "2022-02-03T21:44:53.236Z"
      },
      {
        "duration": 32,
        "start_time": "2022-02-03T21:44:53.263Z"
      },
      {
        "duration": 5,
        "start_time": "2022-02-03T21:44:53.298Z"
      },
      {
        "duration": 24,
        "start_time": "2022-02-03T21:44:53.305Z"
      },
      {
        "duration": 30,
        "start_time": "2022-02-03T21:44:53.332Z"
      },
      {
        "duration": 32,
        "start_time": "2022-02-03T21:44:53.365Z"
      },
      {
        "duration": 24,
        "start_time": "2022-02-03T21:44:53.399Z"
      },
      {
        "duration": 37,
        "start_time": "2022-02-03T21:44:53.425Z"
      },
      {
        "duration": 59,
        "start_time": "2022-02-03T21:44:53.464Z"
      },
      {
        "duration": 93,
        "start_time": "2022-02-03T21:44:53.526Z"
      },
      {
        "duration": 73,
        "start_time": "2022-02-03T21:44:53.621Z"
      },
      {
        "duration": 11,
        "start_time": "2022-02-03T21:44:53.696Z"
      },
      {
        "duration": 3,
        "start_time": "2022-02-03T21:44:53.709Z"
      },
      {
        "duration": 13,
        "start_time": "2022-02-03T21:44:53.714Z"
      },
      {
        "duration": 31,
        "start_time": "2022-02-03T21:44:53.729Z"
      },
      {
        "duration": 180,
        "start_time": "2022-02-03T21:44:53.763Z"
      },
      {
        "duration": -102,
        "start_time": "2022-02-03T21:44:54.049Z"
      },
      {
        "duration": -117,
        "start_time": "2022-02-03T21:44:54.065Z"
      },
      {
        "duration": -124,
        "start_time": "2022-02-03T21:44:54.074Z"
      },
      {
        "duration": -129,
        "start_time": "2022-02-03T21:44:54.080Z"
      },
      {
        "duration": -136,
        "start_time": "2022-02-03T21:44:54.089Z"
      },
      {
        "duration": -153,
        "start_time": "2022-02-03T21:44:54.107Z"
      },
      {
        "duration": -161,
        "start_time": "2022-02-03T21:44:54.117Z"
      },
      {
        "duration": -177,
        "start_time": "2022-02-03T21:44:54.134Z"
      },
      {
        "duration": -186,
        "start_time": "2022-02-03T21:44:54.145Z"
      },
      {
        "duration": -188,
        "start_time": "2022-02-03T21:44:54.148Z"
      },
      {
        "duration": -190,
        "start_time": "2022-02-03T21:44:54.152Z"
      },
      {
        "duration": -199,
        "start_time": "2022-02-03T21:44:54.162Z"
      },
      {
        "duration": -201,
        "start_time": "2022-02-03T21:44:54.166Z"
      },
      {
        "duration": -222,
        "start_time": "2022-02-03T21:44:54.188Z"
      },
      {
        "duration": -227,
        "start_time": "2022-02-03T21:44:54.194Z"
      },
      {
        "duration": -230,
        "start_time": "2022-02-03T21:44:54.199Z"
      },
      {
        "duration": -255,
        "start_time": "2022-02-03T21:44:54.225Z"
      },
      {
        "duration": -261,
        "start_time": "2022-02-03T21:44:54.232Z"
      },
      {
        "duration": -277,
        "start_time": "2022-02-03T21:44:54.249Z"
      },
      {
        "duration": -283,
        "start_time": "2022-02-03T21:44:54.256Z"
      },
      {
        "duration": 182,
        "start_time": "2022-02-03T21:45:17.531Z"
      },
      {
        "duration": 34,
        "start_time": "2022-02-03T21:45:22.616Z"
      },
      {
        "duration": 10,
        "start_time": "2022-02-03T21:45:38.208Z"
      },
      {
        "duration": 12,
        "start_time": "2022-02-03T21:46:42.021Z"
      },
      {
        "duration": 1603,
        "start_time": "2022-02-03T21:51:57.403Z"
      },
      {
        "duration": 3,
        "start_time": "2022-02-03T21:52:07.332Z"
      },
      {
        "duration": 9,
        "start_time": "2022-02-03T21:52:08.864Z"
      },
      {
        "duration": 4,
        "start_time": "2022-02-03T21:52:47.519Z"
      },
      {
        "duration": 12,
        "start_time": "2022-02-03T21:52:49.710Z"
      },
      {
        "duration": 3,
        "start_time": "2022-02-03T21:52:59.234Z"
      },
      {
        "duration": 10,
        "start_time": "2022-02-03T21:53:00.218Z"
      },
      {
        "duration": 17,
        "start_time": "2022-02-03T21:53:22.805Z"
      },
      {
        "duration": 6,
        "start_time": "2022-02-03T21:56:12.342Z"
      },
      {
        "duration": 60,
        "start_time": "2022-02-03T21:57:22.941Z"
      },
      {
        "duration": 6,
        "start_time": "2022-02-03T21:57:53.393Z"
      },
      {
        "duration": 5,
        "start_time": "2022-02-03T21:59:01.481Z"
      },
      {
        "duration": 3,
        "start_time": "2022-02-03T21:59:16.827Z"
      },
      {
        "duration": 17,
        "start_time": "2022-02-03T21:59:17.549Z"
      },
      {
        "duration": 17,
        "start_time": "2022-02-03T21:59:18.807Z"
      },
      {
        "duration": 16,
        "start_time": "2022-02-03T21:59:25.079Z"
      },
      {
        "duration": 18,
        "start_time": "2022-02-03T21:59:29.192Z"
      },
      {
        "duration": 26,
        "start_time": "2022-02-03T22:00:02.139Z"
      },
      {
        "duration": 17,
        "start_time": "2022-02-03T22:00:02.356Z"
      },
      {
        "duration": 15,
        "start_time": "2022-02-03T22:00:02.846Z"
      },
      {
        "duration": 16,
        "start_time": "2022-02-03T22:00:03.356Z"
      },
      {
        "duration": 18,
        "start_time": "2022-02-03T22:00:03.820Z"
      },
      {
        "duration": 16,
        "start_time": "2022-02-03T22:00:04.283Z"
      },
      {
        "duration": 175,
        "start_time": "2022-02-03T22:02:00.943Z"
      },
      {
        "duration": 4,
        "start_time": "2022-02-03T22:09:29.096Z"
      },
      {
        "duration": 9,
        "start_time": "2022-02-03T22:09:40.832Z"
      },
      {
        "duration": 793,
        "start_time": "2022-02-04T12:07:00.545Z"
      },
      {
        "duration": 143,
        "start_time": "2022-02-04T12:07:01.340Z"
      },
      {
        "duration": 18,
        "start_time": "2022-02-04T12:07:01.485Z"
      },
      {
        "duration": 42,
        "start_time": "2022-02-04T12:07:01.504Z"
      },
      {
        "duration": 19,
        "start_time": "2022-02-04T12:07:01.548Z"
      },
      {
        "duration": 62,
        "start_time": "2022-02-04T12:07:01.569Z"
      },
      {
        "duration": 26,
        "start_time": "2022-02-04T12:07:01.633Z"
      },
      {
        "duration": 29,
        "start_time": "2022-02-04T12:07:01.662Z"
      },
      {
        "duration": 21,
        "start_time": "2022-02-04T12:07:01.693Z"
      },
      {
        "duration": 25,
        "start_time": "2022-02-04T12:07:01.715Z"
      },
      {
        "duration": 76,
        "start_time": "2022-02-04T12:07:01.742Z"
      },
      {
        "duration": 72,
        "start_time": "2022-02-04T12:07:01.821Z"
      },
      {
        "duration": 67,
        "start_time": "2022-02-04T12:07:01.895Z"
      },
      {
        "duration": 11,
        "start_time": "2022-02-04T12:07:01.964Z"
      },
      {
        "duration": 19,
        "start_time": "2022-02-04T12:07:01.977Z"
      },
      {
        "duration": 27,
        "start_time": "2022-02-04T12:07:01.997Z"
      },
      {
        "duration": 10,
        "start_time": "2022-02-04T12:07:02.026Z"
      },
      {
        "duration": 11,
        "start_time": "2022-02-04T12:07:02.037Z"
      },
      {
        "duration": 6,
        "start_time": "2022-02-04T12:07:02.050Z"
      },
      {
        "duration": 13,
        "start_time": "2022-02-04T12:07:02.058Z"
      },
      {
        "duration": 13,
        "start_time": "2022-02-04T12:07:02.073Z"
      },
      {
        "duration": 8,
        "start_time": "2022-02-04T12:07:02.088Z"
      },
      {
        "duration": 17,
        "start_time": "2022-02-04T12:07:02.120Z"
      },
      {
        "duration": 14,
        "start_time": "2022-02-04T12:07:02.139Z"
      },
      {
        "duration": 23,
        "start_time": "2022-02-04T12:07:02.155Z"
      },
      {
        "duration": 14,
        "start_time": "2022-02-04T12:07:02.180Z"
      },
      {
        "duration": 37,
        "start_time": "2022-02-04T12:07:02.196Z"
      },
      {
        "duration": 15,
        "start_time": "2022-02-04T12:07:02.235Z"
      },
      {
        "duration": 11,
        "start_time": "2022-02-04T12:07:02.252Z"
      },
      {
        "duration": 11,
        "start_time": "2022-02-04T12:07:02.265Z"
      },
      {
        "duration": 8,
        "start_time": "2022-02-04T12:07:02.278Z"
      },
      {
        "duration": 8,
        "start_time": "2022-02-04T12:07:02.288Z"
      },
      {
        "duration": 20,
        "start_time": "2022-02-04T12:07:02.298Z"
      },
      {
        "duration": 5,
        "start_time": "2022-02-04T12:07:02.320Z"
      },
      {
        "duration": 22,
        "start_time": "2022-02-04T12:07:02.327Z"
      },
      {
        "duration": 7,
        "start_time": "2022-02-04T12:07:02.351Z"
      },
      {
        "duration": 7,
        "start_time": "2022-02-04T12:07:02.360Z"
      },
      {
        "duration": 6,
        "start_time": "2022-02-04T12:07:02.368Z"
      },
      {
        "duration": 8,
        "start_time": "2022-02-04T12:07:02.376Z"
      },
      {
        "duration": 6,
        "start_time": "2022-02-04T12:07:02.385Z"
      },
      {
        "duration": 12,
        "start_time": "2022-02-04T12:08:37.478Z"
      },
      {
        "duration": 10,
        "start_time": "2022-02-04T12:08:38.047Z"
      },
      {
        "duration": 5,
        "start_time": "2022-02-04T12:17:58.954Z"
      },
      {
        "duration": 558,
        "start_time": "2022-02-04T12:19:35.192Z"
      },
      {
        "duration": 4,
        "start_time": "2022-02-04T12:19:45.588Z"
      },
      {
        "duration": 20,
        "start_time": "2022-02-04T12:19:46.448Z"
      },
      {
        "duration": 16,
        "start_time": "2022-02-04T12:20:09.543Z"
      },
      {
        "duration": 19,
        "start_time": "2022-02-04T12:20:37.701Z"
      },
      {
        "duration": 14,
        "start_time": "2022-02-04T12:20:54.338Z"
      },
      {
        "duration": 14,
        "start_time": "2022-02-04T12:24:34.802Z"
      },
      {
        "duration": 7135,
        "start_time": "2022-02-04T12:26:46.884Z"
      },
      {
        "duration": 269,
        "start_time": "2022-02-04T12:27:10.738Z"
      },
      {
        "duration": 289,
        "start_time": "2022-02-04T12:27:21.260Z"
      },
      {
        "duration": 23,
        "start_time": "2022-02-04T12:27:50.763Z"
      },
      {
        "duration": 25,
        "start_time": "2022-02-04T12:27:59.135Z"
      },
      {
        "duration": 9,
        "start_time": "2022-02-04T12:28:15.317Z"
      },
      {
        "duration": 8,
        "start_time": "2022-02-04T12:28:41.458Z"
      },
      {
        "duration": 6,
        "start_time": "2022-02-04T12:28:42.527Z"
      },
      {
        "duration": 9,
        "start_time": "2022-02-04T12:29:44.037Z"
      },
      {
        "duration": 5,
        "start_time": "2022-02-04T12:30:00.747Z"
      },
      {
        "duration": 2,
        "start_time": "2022-02-04T12:42:21.805Z"
      },
      {
        "duration": 170,
        "start_time": "2022-02-04T12:42:21.810Z"
      },
      {
        "duration": 11,
        "start_time": "2022-02-04T12:42:21.982Z"
      },
      {
        "duration": 45,
        "start_time": "2022-02-04T12:42:21.995Z"
      },
      {
        "duration": 11,
        "start_time": "2022-02-04T12:42:22.042Z"
      },
      {
        "duration": 33,
        "start_time": "2022-02-04T12:42:22.055Z"
      },
      {
        "duration": 5,
        "start_time": "2022-02-04T12:42:22.091Z"
      },
      {
        "duration": 40,
        "start_time": "2022-02-04T12:42:22.098Z"
      },
      {
        "duration": 23,
        "start_time": "2022-02-04T12:42:22.140Z"
      },
      {
        "duration": 27,
        "start_time": "2022-02-04T12:42:22.165Z"
      },
      {
        "duration": 75,
        "start_time": "2022-02-04T12:42:22.195Z"
      },
      {
        "duration": 70,
        "start_time": "2022-02-04T12:42:22.271Z"
      },
      {
        "duration": 51,
        "start_time": "2022-02-04T12:42:22.343Z"
      },
      {
        "duration": 24,
        "start_time": "2022-02-04T12:42:22.395Z"
      },
      {
        "duration": 3,
        "start_time": "2022-02-04T12:42:22.420Z"
      },
      {
        "duration": 15,
        "start_time": "2022-02-04T12:42:22.425Z"
      },
      {
        "duration": 9,
        "start_time": "2022-02-04T12:42:22.442Z"
      },
      {
        "duration": 6,
        "start_time": "2022-02-04T12:42:22.452Z"
      },
      {
        "duration": 5,
        "start_time": "2022-02-04T12:42:22.461Z"
      },
      {
        "duration": 12,
        "start_time": "2022-02-04T12:42:22.468Z"
      },
      {
        "duration": 44,
        "start_time": "2022-02-04T12:42:22.481Z"
      },
      {
        "duration": 3,
        "start_time": "2022-02-04T12:42:22.526Z"
      },
      {
        "duration": 27,
        "start_time": "2022-02-04T12:42:22.531Z"
      },
      {
        "duration": 15,
        "start_time": "2022-02-04T12:42:22.559Z"
      },
      {
        "duration": 16,
        "start_time": "2022-02-04T12:42:22.575Z"
      },
      {
        "duration": 34,
        "start_time": "2022-02-04T12:42:22.593Z"
      },
      {
        "duration": 17,
        "start_time": "2022-02-04T12:42:22.629Z"
      },
      {
        "duration": 19,
        "start_time": "2022-02-04T12:42:22.648Z"
      },
      {
        "duration": 11,
        "start_time": "2022-02-04T12:42:22.669Z"
      },
      {
        "duration": 36,
        "start_time": "2022-02-04T12:42:22.682Z"
      },
      {
        "duration": 11,
        "start_time": "2022-02-04T12:42:22.720Z"
      },
      {
        "duration": 16,
        "start_time": "2022-02-04T12:42:22.732Z"
      },
      {
        "duration": 36,
        "start_time": "2022-02-04T12:42:22.749Z"
      },
      {
        "duration": 12,
        "start_time": "2022-02-04T12:42:22.787Z"
      },
      {
        "duration": 28,
        "start_time": "2022-02-04T12:42:22.801Z"
      },
      {
        "duration": 13,
        "start_time": "2022-02-04T12:42:22.831Z"
      },
      {
        "duration": 9,
        "start_time": "2022-02-04T12:42:22.845Z"
      },
      {
        "duration": 27,
        "start_time": "2022-02-04T12:42:22.855Z"
      },
      {
        "duration": 20,
        "start_time": "2022-02-04T12:42:22.884Z"
      },
      {
        "duration": 8,
        "start_time": "2022-02-04T12:42:22.906Z"
      },
      {
        "duration": 3,
        "start_time": "2022-02-04T12:51:18.878Z"
      },
      {
        "duration": 18,
        "start_time": "2022-02-04T13:04:14.464Z"
      },
      {
        "duration": 5,
        "start_time": "2022-02-04T13:04:15.155Z"
      },
      {
        "duration": 3,
        "start_time": "2022-02-04T13:04:20.983Z"
      },
      {
        "duration": 178,
        "start_time": "2022-02-04T13:04:20.989Z"
      },
      {
        "duration": 11,
        "start_time": "2022-02-04T13:04:21.169Z"
      },
      {
        "duration": 40,
        "start_time": "2022-02-04T13:04:21.182Z"
      },
      {
        "duration": 8,
        "start_time": "2022-02-04T13:04:21.224Z"
      },
      {
        "duration": 24,
        "start_time": "2022-02-04T13:04:21.234Z"
      },
      {
        "duration": 4,
        "start_time": "2022-02-04T13:04:21.260Z"
      },
      {
        "duration": 27,
        "start_time": "2022-02-04T13:04:21.266Z"
      },
      {
        "duration": 6451,
        "start_time": "2022-02-04T13:04:21.297Z"
      },
      {
        "duration": -1411,
        "start_time": "2022-02-04T13:04:29.161Z"
      },
      {
        "duration": -1423,
        "start_time": "2022-02-04T13:04:29.175Z"
      },
      {
        "duration": -1434,
        "start_time": "2022-02-04T13:04:29.187Z"
      },
      {
        "duration": -1438,
        "start_time": "2022-02-04T13:04:29.192Z"
      },
      {
        "duration": -1451,
        "start_time": "2022-02-04T13:04:29.205Z"
      },
      {
        "duration": -1455,
        "start_time": "2022-02-04T13:04:29.210Z"
      },
      {
        "duration": -1466,
        "start_time": "2022-02-04T13:04:29.222Z"
      },
      {
        "duration": -1472,
        "start_time": "2022-02-04T13:04:29.229Z"
      },
      {
        "duration": -1478,
        "start_time": "2022-02-04T13:04:29.237Z"
      },
      {
        "duration": -1486,
        "start_time": "2022-02-04T13:04:29.245Z"
      },
      {
        "duration": -1490,
        "start_time": "2022-02-04T13:04:29.250Z"
      },
      {
        "duration": -1494,
        "start_time": "2022-02-04T13:04:29.255Z"
      },
      {
        "duration": -1499,
        "start_time": "2022-02-04T13:04:29.261Z"
      },
      {
        "duration": -1502,
        "start_time": "2022-02-04T13:04:29.265Z"
      },
      {
        "duration": -1504,
        "start_time": "2022-02-04T13:04:29.269Z"
      },
      {
        "duration": -1508,
        "start_time": "2022-02-04T13:04:29.273Z"
      },
      {
        "duration": -1511,
        "start_time": "2022-02-04T13:04:29.277Z"
      },
      {
        "duration": -1514,
        "start_time": "2022-02-04T13:04:29.281Z"
      },
      {
        "duration": -1538,
        "start_time": "2022-02-04T13:04:29.307Z"
      },
      {
        "duration": -1541,
        "start_time": "2022-02-04T13:04:29.311Z"
      },
      {
        "duration": -1546,
        "start_time": "2022-02-04T13:04:29.316Z"
      },
      {
        "duration": -1549,
        "start_time": "2022-02-04T13:04:29.320Z"
      },
      {
        "duration": -1559,
        "start_time": "2022-02-04T13:04:29.331Z"
      },
      {
        "duration": -1566,
        "start_time": "2022-02-04T13:04:29.339Z"
      },
      {
        "duration": -1576,
        "start_time": "2022-02-04T13:04:29.350Z"
      },
      {
        "duration": -1581,
        "start_time": "2022-02-04T13:04:29.356Z"
      },
      {
        "duration": -1589,
        "start_time": "2022-02-04T13:04:29.365Z"
      },
      {
        "duration": -1593,
        "start_time": "2022-02-04T13:04:29.370Z"
      },
      {
        "duration": -1597,
        "start_time": "2022-02-04T13:04:29.375Z"
      },
      {
        "duration": -1607,
        "start_time": "2022-02-04T13:04:29.386Z"
      },
      {
        "duration": -1624,
        "start_time": "2022-02-04T13:04:29.404Z"
      },
      {
        "duration": 16,
        "start_time": "2022-02-04T13:04:41.168Z"
      },
      {
        "duration": 5,
        "start_time": "2022-02-04T13:04:42.056Z"
      },
      {
        "duration": 25,
        "start_time": "2022-02-04T13:04:49.524Z"
      },
      {
        "duration": 18,
        "start_time": "2022-02-04T13:05:08.074Z"
      },
      {
        "duration": 25,
        "start_time": "2022-02-04T13:05:10.347Z"
      },
      {
        "duration": 57,
        "start_time": "2022-02-04T13:05:12.452Z"
      },
      {
        "duration": 67,
        "start_time": "2022-02-04T13:05:14.737Z"
      },
      {
        "duration": 51,
        "start_time": "2022-02-04T13:05:15.887Z"
      },
      {
        "duration": 10,
        "start_time": "2022-02-04T13:05:25.468Z"
      },
      {
        "duration": 3,
        "start_time": "2022-02-04T13:05:39.757Z"
      },
      {
        "duration": 13,
        "start_time": "2022-02-04T13:05:41.329Z"
      },
      {
        "duration": 10,
        "start_time": "2022-02-04T13:05:47.783Z"
      },
      {
        "duration": 7,
        "start_time": "2022-02-04T13:05:50.297Z"
      },
      {
        "duration": 7,
        "start_time": "2022-02-04T13:05:52.465Z"
      },
      {
        "duration": 12,
        "start_time": "2022-02-04T13:09:14.521Z"
      },
      {
        "duration": 11,
        "start_time": "2022-02-04T13:09:17.099Z"
      },
      {
        "duration": 3,
        "start_time": "2022-02-04T13:09:22.013Z"
      },
      {
        "duration": 21,
        "start_time": "2022-02-04T13:09:24.081Z"
      },
      {
        "duration": 17,
        "start_time": "2022-02-04T13:09:24.297Z"
      },
      {
        "duration": 16,
        "start_time": "2022-02-04T13:09:24.591Z"
      },
      {
        "duration": 18,
        "start_time": "2022-02-04T13:09:24.825Z"
      },
      {
        "duration": 26,
        "start_time": "2022-02-04T13:09:25.867Z"
      },
      {
        "duration": 17,
        "start_time": "2022-02-04T13:09:26.142Z"
      },
      {
        "duration": 9,
        "start_time": "2022-02-04T13:09:31.237Z"
      },
      {
        "duration": 13,
        "start_time": "2022-02-04T13:09:37.104Z"
      },
      {
        "duration": 11,
        "start_time": "2022-02-04T13:09:37.669Z"
      },
      {
        "duration": 4,
        "start_time": "2022-02-04T13:10:00.422Z"
      },
      {
        "duration": 21,
        "start_time": "2022-02-04T13:10:03.697Z"
      },
      {
        "duration": 14,
        "start_time": "2022-02-04T13:10:05.082Z"
      },
      {
        "duration": 19,
        "start_time": "2022-02-04T13:10:05.512Z"
      },
      {
        "duration": 13,
        "start_time": "2022-02-04T13:10:05.848Z"
      },
      {
        "duration": 10,
        "start_time": "2022-02-04T13:10:14.378Z"
      },
      {
        "duration": 6,
        "start_time": "2022-02-04T13:10:17.535Z"
      },
      {
        "duration": 7,
        "start_time": "2022-02-04T13:10:22.528Z"
      },
      {
        "duration": 5,
        "start_time": "2022-02-04T13:10:24.852Z"
      },
      {
        "duration": 2,
        "start_time": "2022-02-04T13:14:13.890Z"
      },
      {
        "duration": 205,
        "start_time": "2022-02-04T13:14:20.078Z"
      },
      {
        "duration": 16,
        "start_time": "2022-02-04T13:14:22.748Z"
      },
      {
        "duration": 24,
        "start_time": "2022-02-04T13:14:40.267Z"
      },
      {
        "duration": 5,
        "start_time": "2022-02-04T13:15:58.981Z"
      },
      {
        "duration": 18,
        "start_time": "2022-02-04T13:16:40.066Z"
      },
      {
        "duration": 5,
        "start_time": "2022-02-04T13:16:53.949Z"
      },
      {
        "duration": 5,
        "start_time": "2022-02-04T13:17:00.565Z"
      },
      {
        "duration": 25,
        "start_time": "2022-02-04T13:17:21.995Z"
      },
      {
        "duration": 19,
        "start_time": "2022-02-04T13:19:03.146Z"
      },
      {
        "duration": 31,
        "start_time": "2022-02-04T13:19:19.561Z"
      },
      {
        "duration": 59,
        "start_time": "2022-02-04T13:19:41.787Z"
      },
      {
        "duration": 63,
        "start_time": "2022-02-04T13:19:51.583Z"
      },
      {
        "duration": 51,
        "start_time": "2022-02-04T13:20:08.534Z"
      },
      {
        "duration": 12,
        "start_time": "2022-02-04T13:26:43.132Z"
      },
      {
        "duration": 12,
        "start_time": "2022-02-04T13:26:46.741Z"
      },
      {
        "duration": 10,
        "start_time": "2022-02-04T13:27:50.982Z"
      },
      {
        "duration": 7,
        "start_time": "2022-02-04T13:27:54.514Z"
      },
      {
        "duration": 6,
        "start_time": "2022-02-04T13:28:19.578Z"
      },
      {
        "duration": 7,
        "start_time": "2022-02-04T13:28:22.730Z"
      },
      {
        "duration": 12,
        "start_time": "2022-02-04T13:30:23.937Z"
      },
      {
        "duration": 11,
        "start_time": "2022-02-04T13:31:52.098Z"
      },
      {
        "duration": 3,
        "start_time": "2022-02-04T13:36:17.605Z"
      },
      {
        "duration": 17,
        "start_time": "2022-02-04T13:36:31.802Z"
      },
      {
        "duration": 17,
        "start_time": "2022-02-04T13:36:32.969Z"
      },
      {
        "duration": 25,
        "start_time": "2022-02-04T13:36:33.536Z"
      },
      {
        "duration": 21,
        "start_time": "2022-02-04T13:36:36.588Z"
      },
      {
        "duration": 18,
        "start_time": "2022-02-04T13:36:37.023Z"
      },
      {
        "duration": 16,
        "start_time": "2022-02-04T13:36:38.309Z"
      },
      {
        "duration": 9,
        "start_time": "2022-02-04T13:37:07.880Z"
      },
      {
        "duration": 12,
        "start_time": "2022-02-04T13:37:53.551Z"
      },
      {
        "duration": 9,
        "start_time": "2022-02-04T13:37:53.911Z"
      },
      {
        "duration": 3,
        "start_time": "2022-02-04T13:45:51.778Z"
      },
      {
        "duration": 19,
        "start_time": "2022-02-04T13:45:53.460Z"
      },
      {
        "duration": 20,
        "start_time": "2022-02-04T13:46:26.769Z"
      },
      {
        "duration": 16,
        "start_time": "2022-02-04T13:46:34.310Z"
      },
      {
        "duration": 18,
        "start_time": "2022-02-04T13:46:38.902Z"
      },
      {
        "duration": 15,
        "start_time": "2022-02-04T13:46:41.231Z"
      },
      {
        "duration": 9,
        "start_time": "2022-02-04T13:47:36.547Z"
      },
      {
        "duration": 4,
        "start_time": "2022-02-04T13:47:48.044Z"
      },
      {
        "duration": 8,
        "start_time": "2022-02-04T13:48:06.462Z"
      },
      {
        "duration": 5,
        "start_time": "2022-02-04T13:48:17.366Z"
      },
      {
        "duration": 5,
        "start_time": "2022-02-04T13:48:24.794Z"
      },
      {
        "duration": 7,
        "start_time": "2022-02-04T13:48:26.588Z"
      },
      {
        "duration": 5,
        "start_time": "2022-02-04T13:48:27.374Z"
      },
      {
        "duration": 2,
        "start_time": "2022-02-04T13:55:22.476Z"
      },
      {
        "duration": 170,
        "start_time": "2022-02-04T13:55:22.481Z"
      },
      {
        "duration": 10,
        "start_time": "2022-02-04T13:55:22.653Z"
      },
      {
        "duration": 29,
        "start_time": "2022-02-04T13:55:22.665Z"
      },
      {
        "duration": 23,
        "start_time": "2022-02-04T13:55:22.696Z"
      },
      {
        "duration": 20,
        "start_time": "2022-02-04T13:55:22.721Z"
      },
      {
        "duration": 10,
        "start_time": "2022-02-04T13:55:22.743Z"
      },
      {
        "duration": 28,
        "start_time": "2022-02-04T13:55:22.754Z"
      },
      {
        "duration": 34,
        "start_time": "2022-02-04T13:55:22.784Z"
      },
      {
        "duration": 24,
        "start_time": "2022-02-04T13:55:22.821Z"
      },
      {
        "duration": 80,
        "start_time": "2022-02-04T13:55:22.847Z"
      },
      {
        "duration": 67,
        "start_time": "2022-02-04T13:55:22.928Z"
      },
      {
        "duration": 67,
        "start_time": "2022-02-04T13:55:22.996Z"
      },
      {
        "duration": 10,
        "start_time": "2022-02-04T13:55:23.064Z"
      },
      {
        "duration": 3,
        "start_time": "2022-02-04T13:55:23.076Z"
      },
      {
        "duration": 14,
        "start_time": "2022-02-04T13:55:23.080Z"
      },
      {
        "duration": 26,
        "start_time": "2022-02-04T13:55:23.096Z"
      },
      {
        "duration": 7,
        "start_time": "2022-02-04T13:55:23.124Z"
      },
      {
        "duration": 13,
        "start_time": "2022-02-04T13:55:23.133Z"
      },
      {
        "duration": 16,
        "start_time": "2022-02-04T13:55:23.148Z"
      },
      {
        "duration": 13,
        "start_time": "2022-02-04T13:55:23.166Z"
      },
      {
        "duration": 5,
        "start_time": "2022-02-04T13:55:23.180Z"
      },
      {
        "duration": 21,
        "start_time": "2022-02-04T13:55:23.218Z"
      },
      {
        "duration": 17,
        "start_time": "2022-02-04T13:55:23.243Z"
      },
      {
        "duration": 16,
        "start_time": "2022-02-04T13:55:23.263Z"
      },
      {
        "duration": 49,
        "start_time": "2022-02-04T13:55:23.281Z"
      },
      {
        "duration": 17,
        "start_time": "2022-02-04T13:55:23.332Z"
      },
      {
        "duration": 15,
        "start_time": "2022-02-04T13:55:23.351Z"
      },
      {
        "duration": 8,
        "start_time": "2022-02-04T13:55:23.368Z"
      },
      {
        "duration": 44,
        "start_time": "2022-02-04T13:55:23.378Z"
      },
      {
        "duration": 10,
        "start_time": "2022-02-04T13:55:23.424Z"
      },
      {
        "duration": 6,
        "start_time": "2022-02-04T13:55:23.435Z"
      },
      {
        "duration": 24,
        "start_time": "2022-02-04T13:55:23.442Z"
      },
      {
        "duration": 12,
        "start_time": "2022-02-04T13:55:23.468Z"
      },
      {
        "duration": 46,
        "start_time": "2022-02-04T13:55:23.482Z"
      },
      {
        "duration": 12,
        "start_time": "2022-02-04T13:55:23.529Z"
      },
      {
        "duration": 14,
        "start_time": "2022-02-04T13:55:23.542Z"
      },
      {
        "duration": 5,
        "start_time": "2022-02-04T13:55:23.558Z"
      },
      {
        "duration": 11,
        "start_time": "2022-02-04T13:55:23.565Z"
      },
      {
        "duration": 6,
        "start_time": "2022-02-04T13:55:23.578Z"
      }
    ],
    "colab": {
      "collapsed_sections": [
        "E0vqbgi9ay0H",
        "VUC88oWjTJw2"
      ],
      "name": "first_module_project.ipynb",
      "provenance": []
    },
    "kernelspec": {
      "display_name": "Python 3",
      "language": "python",
      "name": "python3"
    },
    "language_info": {
      "codemirror_mode": {
        "name": "ipython",
        "version": 3
      },
      "file_extension": ".py",
      "mimetype": "text/x-python",
      "name": "python",
      "nbconvert_exporter": "python",
      "pygments_lexer": "ipython3",
      "version": "3.7.8"
    },
    "toc": {
      "base_numbering": 1,
      "nav_menu": {},
      "number_sections": true,
      "sideBar": true,
      "skip_h1_title": true,
      "title_cell": "Table of Contents",
      "title_sidebar": "Contents",
      "toc_cell": false,
      "toc_position": {
        "height": "calc(100% - 180px)",
        "left": "10px",
        "top": "150px",
        "width": "165px"
      },
      "toc_section_display": true,
      "toc_window_display": true
    }
  },
  "nbformat": 4,
  "nbformat_minor": 0
}